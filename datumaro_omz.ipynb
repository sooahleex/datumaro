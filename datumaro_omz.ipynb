{
 "cells": [
  {
   "cell_type": "code",
   "execution_count": 1,
   "id": "33711686",
   "metadata": {},
   "outputs": [
    {
     "name": "stdout",
     "output_type": "stream",
     "text": [
      "#### device:  cuda\n"
     ]
    }
   ],
   "source": [
    "# Copyright (C) 2022 Intel Corporationworkbench.action.openLargeOutput\n",
    "#\n",
    "# SPDX-License-Identifier: MIT\n",
    "\n",
    "import os\n",
    "import datumaro as dm\n",
    "import time"
   ]
  },
  {
   "cell_type": "markdown",
   "id": "dd905244",
   "metadata": {},
   "source": [
    "### 1. cifar"
   ]
  },
  {
   "cell_type": "code",
   "execution_count": 52,
   "id": "22561ee7",
   "metadata": {},
   "outputs": [
    {
     "name": "stderr",
     "output_type": "stream",
     "text": [
      "4it [00:00, 72.31it/s]\n",
      "1it [00:00, 123.59it/s]"
     ]
    },
    {
     "name": "stdout",
     "output_type": "stream",
     "text": [
      "setting dataset time for 5 items:  0.06888008117675781\n"
     ]
    },
    {
     "name": "stderr",
     "output_type": "stream",
     "text": [
      "\n"
     ]
    },
    {
     "data": {
      "text/plain": [
       "Dataset\n",
       "\tsize=5\n",
       "\tsource_path=./tests/assets/cifar10_dataset\n",
       "\tmedia_type=<class 'datumaro.components.media.Image'>\n",
       "\tannotated_items_count=5\n",
       "\tannotations_count=5\n",
       "subsets\n",
       "\tdata_batch_1: # of items=1, # of annotated items=1, # of annotations=1, annotation types=['label']\n",
       "\ttest_batch: # of items=4, # of annotated items=4, # of annotations=4, annotation types=['label']\n",
       "infos\n",
       "\tcategories\n",
       "\tlabel: ['airplane', 'automobile', 'bird', 'cat']"
      ]
     },
     "execution_count": 52,
     "metadata": {},
     "output_type": "execute_result"
    }
   ],
   "source": [
    "start_time = time.time()\n",
    "dataset = dm.Dataset.import_from('./tests/assets/cifar10_dataset', 'cifar', save_hash=True)\n",
    "print(f'setting dataset time for {len(dataset)} items: ', time.time()-start_time)\n",
    "dataset"
   ]
  },
  {
   "cell_type": "markdown",
   "id": "ce088034",
   "metadata": {},
   "source": [
    "### 2. mnist"
   ]
  },
  {
   "cell_type": "code",
   "execution_count": 3,
   "id": "8666bfaa",
   "metadata": {},
   "outputs": [
    {
     "data": {
      "text/plain": [
       "Dataset\n",
       "\tsize=5\n",
       "\tsource_path=./tests/assets/mnist_dataset\n",
       "\tmedia_type=<class 'datumaro.components.media.Image'>\n",
       "\tannotated_items_count=5\n",
       "\tannotations_count=5\n",
       "subsets\n",
       "\ttest: # of items=3, # of annotated items=3, # of annotations=3, annotation types=['label']\n",
       "\ttrain: # of items=2, # of annotated items=2, # of annotations=2, annotation types=['label']\n",
       "infos\n",
       "\tcategories\n",
       "\tlabel: ['0', '1', '2', '3', '4', '5', '6', '7', '8', '9']"
      ]
     },
     "execution_count": 3,
     "metadata": {},
     "output_type": "execute_result"
    }
   ],
   "source": [
    "dataset = dm.Dataset.import_from('./tests/assets/mnist_dataset', 'mnist')\n",
    "dataset"
   ]
  },
  {
   "cell_type": "markdown",
   "id": "b5c43dcd",
   "metadata": {},
   "source": [
    "### 3. mnist_csv"
   ]
  },
  {
   "cell_type": "code",
   "execution_count": 4,
   "id": "96bc5208",
   "metadata": {},
   "outputs": [
    {
     "data": {
      "text/plain": [
       "Dataset\n",
       "\tsize=5\n",
       "\tsource_path=./tests/assets/mnist_csv_dataset\n",
       "\tmedia_type=<class 'datumaro.components.media.Image'>\n",
       "\tannotated_items_count=5\n",
       "\tannotations_count=5\n",
       "subsets\n",
       "\ttest: # of items=3, # of annotated items=3, # of annotations=3, annotation types=['label']\n",
       "\ttrain: # of items=2, # of annotated items=2, # of annotations=2, annotation types=['label']\n",
       "infos\n",
       "\tcategories\n",
       "\tlabel: ['0', '1', '2', '3', '4', '5', '6', '7', '8', '9']"
      ]
     },
     "execution_count": 4,
     "metadata": {},
     "output_type": "execute_result"
    }
   ],
   "source": [
    "dataset = dm.Dataset.import_from('./tests/assets/mnist_csv_dataset', 'mnist_csv')\n",
    "dataset"
   ]
  },
  {
   "cell_type": "markdown",
   "id": "20104106",
   "metadata": {},
   "source": [
    "### 4. fashion_mnist"
   ]
  },
  {
   "cell_type": "code",
   "execution_count": 11,
   "id": "09b18a79",
   "metadata": {},
   "outputs": [
    {
     "data": {
      "text/plain": [
       "Dataset\n",
       "\tsize=70000\n",
       "\tsource_path=/media/hdd2/datumaro/fashion-mnist\n",
       "\tmedia_type=<class 'datumaro.components.media.Image'>\n",
       "\tannotated_items_count=70000\n",
       "\tannotations_count=70000\n",
       "subsets\n",
       "\ttest: # of items=10000, # of annotated items=10000, # of annotations=10000, annotation types=['label']\n",
       "\ttrain: # of items=60000, # of annotated items=60000, # of annotations=60000, annotation types=['label']\n",
       "infos\n",
       "\tcategories\n",
       "\tlabel: ['0', '1', '2', '3', '4', '5', '6', '7', '8', '9']"
      ]
     },
     "execution_count": 11,
     "metadata": {},
     "output_type": "execute_result"
    }
   ],
   "source": [
    "dataset = dm.Dataset.import_from('/media/hdd2/datumaro/fashion-mnist', 'mnist')\n",
    "dataset"
   ]
  },
  {
   "cell_type": "markdown",
   "id": "a0f6a8f0",
   "metadata": {},
   "source": [
    "### 5. imagenet"
   ]
  },
  {
   "cell_type": "code",
   "execution_count": 12,
   "id": "10ac8eb0",
   "metadata": {},
   "outputs": [
    {
     "name": "stderr",
     "output_type": "stream",
     "text": [
      "3it [00:00, 64.23it/s]"
     ]
    },
    {
     "name": "stdout",
     "output_type": "stream",
     "text": [
      "setting dataset time for 3 items:  0.05055570602416992\n",
      "DatasetItem(id='label_0/label_0_1', subset='default', media=<datumaro.components.media.Image object at 0x7f9166968590>, annotations=[Label(id=0, attributes={}, group=0, label=0)], attributes={}, hash_key=['09effa1b4c54099b48ce2f97ca195100f5115aad2e1aad36e1abfaf8fd10c0c7a167ddf6b539399e7ddaf32ba0b1ee07a038369e6ad898e50a2cf98912248bcc'])\n",
      "DatasetItem(id='label_0/label_0_2', subset='default', media=<datumaro.components.media.Image object at 0x7f91669689d0>, annotations=[Label(id=0, attributes={}, group=0, label=0)], attributes={}, hash_key=['09effa1b4c54099b48ce2f97ca195100f5115aad2e1aad36e1abfaf8fd10c0c7a167ddf6b539399e7ddaf32ba0b1ee07a038369e6ad898e50a2cf98912248bcc'])\n",
      "DatasetItem(id='label_1/label_1_1', subset='default', media=<datumaro.components.media.Image object at 0x7f91669686d0>, annotations=[Label(id=0, attributes={}, group=0, label=1)], attributes={}, hash_key=['09effa1b4c54099b48ce2f97ca195100f5115aad2e1aad36e1abfaf8fd10c0c7a167ddf6b539399e7ddaf32ba0b1ee07a038369e6ad898e50a2cf98912248bcc'])\n"
     ]
    },
    {
     "name": "stderr",
     "output_type": "stream",
     "text": [
      "\n"
     ]
    }
   ],
   "source": [
    "start_time = time.time()\n",
    "dataset = dm.Dataset.import_from('./tests/assets/imagenet_dataset', \"imagenet\", save_hash=True)\n",
    "print(f'setting dataset time for {len(dataset)} items: ', time.time()-start_time)\n",
    "dataset\n",
    "for i, item in enumerate(dataset):\n",
    "    print(item)"
   ]
  },
  {
   "cell_type": "markdown",
   "id": "e7c1b329",
   "metadata": {},
   "source": [
    "### 6. voc_detection"
   ]
  },
  {
   "cell_type": "code",
   "execution_count": 13,
   "id": "7e7020dd",
   "metadata": {},
   "outputs": [
    {
     "name": "stdout",
     "output_type": "stream",
     "text": [
      "setting dataset time for 5 items:  0.012027502059936523\n",
      "DatasetItem(id='@', subset='trainval', media=<datumaro.components.media.Image object at 0x7f9166966150>, annotations=[], attributes={}, hash_key=[])\n",
      "DatasetItem(id='a', subset='trainval', media=<datumaro.components.media.Image object at 0x7f9166966710>, annotations=[Bbox(id=1, attributes={'difficult': False, 'truncated': False, 'occluded': True}, group=1, points=[1.0, 2.0, 4.0, 6.0], label=0, z_order=0)], attributes={}, hash_key=[])\n",
      "DatasetItem(id='b', subset='trainval', media=<datumaro.components.media.Image object at 0x7f9166962150>, annotations=[Bbox(id=1, attributes={'difficult': False, 'truncated': False, 'occluded': True}, group=1, points=[2.0, 2.0, 7.0, 6.0], label=1, z_order=0)], attributes={}, hash_key=[])\n",
      "DatasetItem(id='c', subset='trainval', media=<datumaro.components.media.Image object at 0x7f9166970d50>, annotations=[Bbox(id=1, attributes={'difficult': False, 'truncated': False, 'occluded': False}, group=1, points=[3.0, 1.0, 11.0, 6.0], label=2, z_order=0)], attributes={}, hash_key=[])\n",
      "DatasetItem(id='d', subset='trainval', media=<datumaro.components.media.Image object at 0x7f9166966690>, annotations=[Bbox(id=1, attributes={'difficult': False, 'truncated': False, 'occluded': False}, group=1, points=[4.0, 4.0, 8.0, 8.0], label=3, z_order=0)], attributes={}, hash_key=[])\n"
     ]
    }
   ],
   "source": [
    "start_time = time.time()\n",
    "dataset = dm.Dataset.import_from('./tests/assets/voc_dataset/voc_dataset2', 'voc_detection', save_hash=True)\n",
    "print(f'setting dataset time for {len(dataset)} items: ', time.time()-start_time)\n",
    "dataset\n",
    "for i, item in enumerate(dataset):\n",
    "    print(item)"
   ]
  },
  {
   "cell_type": "markdown",
   "id": "cafaea09",
   "metadata": {},
   "source": [
    "### 7. voc_segmentation"
   ]
  },
  {
   "cell_type": "code",
   "execution_count": 15,
   "id": "8d124193",
   "metadata": {},
   "outputs": [
    {
     "name": "stdout",
     "output_type": "stream",
     "text": [
      "setting dataset time for 2 items:  0.04354238510131836\n",
      "DatasetItem(id='2007_000002', subset='test', media=<datumaro.components.media.Image object at 0x7f91a00c29d0>, annotations=[], attributes={}, hash_key=['09effa1b4c54099b48ce2f97ca195100f5115aad2e1aad36e1abfaf8fd10c0c7a167ddf6b539399e7ddaf32ba0b1ee07a038369e6ad898e50a2cf98912248bcc'])\n",
      "DatasetItem(id='2007_000001', subset='train', media=<datumaro.components.media.Image object at 0x7f9166966590>, annotations=[Mask(id=0, attributes={}, group=1, _image=functools.partial(<bound method CompiledMask.extract of <datumaro.components.annotation.CompiledMask object at 0x7f91a00bd890>>, 1), label=2, z_order=0)], attributes={}, hash_key=['09effa1b4c54099b48ce2f97ca195100f5115aad2e1aad36e1abfaf8fd10c0c7a167ddf6b539399e7ddaf32ba0b1ee07a038369e6ad898e50a2cf98912248bcc'])\n"
     ]
    }
   ],
   "source": [
    "start_time = time.time()\n",
    "dataset = dm.Dataset.import_from('./tests/assets/voc_dataset/voc_dataset1', 'voc_segmentation', save_hash=True)\n",
    "print(f'setting dataset time for {len(dataset)} items: ', time.time()-start_time)\n",
    "dataset\n",
    "for i, item in enumerate(dataset):\n",
    "    print(item)"
   ]
  },
  {
   "cell_type": "markdown",
   "id": "db218a6a",
   "metadata": {},
   "source": [
    "### 8. MSCOCO_detection"
   ]
  },
  {
   "cell_type": "code",
   "execution_count": 16,
   "id": "e7ff2c7e",
   "metadata": {},
   "outputs": [
    {
     "name": "stderr",
     "output_type": "stream",
     "text": [
      "WARNING:root:File './tests/assets/coco_dataset/coco/annotations/labels_train.json' was skipped, could't match this file with any of these tasks: coco_instances\n",
      "WARNING:root:File './tests/assets/coco_dataset/coco/annotations/panoptic_val.json' was skipped, could't match this file with any of these tasks: coco_instances\n",
      "WARNING:root:File './tests/assets/coco_dataset/coco/annotations/captions_train.json' was skipped, could't match this file with any of these tasks: coco_instances\n",
      "WARNING:root:File './tests/assets/coco_dataset/coco/annotations/person_keypoints_train.json' was skipped, could't match this file with any of these tasks: coco_instances\n",
      "WARNING:root:File './tests/assets/coco_dataset/coco/annotations/stuff_train.json' was skipped, could't match this file with any of these tasks: coco_instances\n",
      "WARNING:root:File './tests/assets/coco_dataset/coco/annotations/panoptic_train.json' was skipped, could't match this file with any of these tasks: coco_instances\n",
      "WARNING:root:File './tests/assets/coco_dataset/coco/annotations/labels_val.json' was skipped, could't match this file with any of these tasks: coco_instances\n",
      "WARNING:root:File './tests/assets/coco_dataset/coco/annotations/person_keypoints_val.json' was skipped, could't match this file with any of these tasks: coco_instances\n",
      "WARNING:root:File './tests/assets/coco_dataset/coco/annotations/captions_val.json' was skipped, could't match this file with any of these tasks: coco_instances\n",
      "WARNING:root:File './tests/assets/coco_dataset/coco/annotations/image_info_val.json' was skipped, could't match this file with any of these tasks: coco_instances\n",
      "WARNING:root:File './tests/assets/coco_dataset/coco/annotations/image_info_train.json' was skipped, could't match this file with any of these tasks: coco_instances\n",
      "WARNING:root:File './tests/assets/coco_dataset/coco/annotations/stuff_val.json' was skipped, could't match this file with any of these tasks: coco_instances\n",
      "1it [00:00, 25.54it/s]\n",
      "1it [00:00, 131.36it/s]"
     ]
    },
    {
     "name": "stdout",
     "output_type": "stream",
     "text": [
      "setting dataset time for 2 items:  0.056555747985839844\n"
     ]
    },
    {
     "name": "stderr",
     "output_type": "stream",
     "text": [
      "\n"
     ]
    },
    {
     "data": {
      "text/plain": [
       "Dataset\n",
       "\tsize=2\n",
       "\tsource_path=./tests/assets/coco_dataset/coco\n",
       "\tmedia_type=<class 'datumaro.components.media.Image'>\n",
       "\tannotated_items_count=2\n",
       "\tannotations_count=3\n",
       "subsets\n",
       "\ttrain: # of items=1, # of annotated items=1, # of annotations=1, annotation types=['bbox']\n",
       "\tval: # of items=1, # of annotated items=1, # of annotations=2, annotation types=['polygon', 'mask']\n",
       "infos\n",
       "\tcategories\n",
       "\tlabel: ['a', 'b', 'c']"
      ]
     },
     "execution_count": 16,
     "metadata": {},
     "output_type": "execute_result"
    }
   ],
   "source": [
    "start_time = time.time()\n",
    "dataset = dm.Dataset.import_from('./tests/assets/coco_dataset/coco', 'coco_instances', save_hash=True)\n",
    "print(f'setting dataset time for {len(dataset)} items: ', time.time()-start_time)\n",
    "dataset"
   ]
  },
  {
   "cell_type": "markdown",
   "id": "03826622",
   "metadata": {},
   "source": [
    "### 9. MSCOCO_segmentation"
   ]
  },
  {
   "cell_type": "code",
   "execution_count": 18,
   "id": "01bc5be0",
   "metadata": {},
   "outputs": [
    {
     "name": "stderr",
     "output_type": "stream",
     "text": [
      "WARNING:root:File './tests/assets/coco_dataset/coco/annotations/labels_train.json' was skipped, could't match this file with any of these tasks: coco_panoptic\n",
      "WARNING:root:File './tests/assets/coco_dataset/coco/annotations/instances_val.json' was skipped, could't match this file with any of these tasks: coco_panoptic\n",
      "WARNING:root:File './tests/assets/coco_dataset/coco/annotations/captions_train.json' was skipped, could't match this file with any of these tasks: coco_panoptic\n",
      "WARNING:root:File './tests/assets/coco_dataset/coco/annotations/person_keypoints_train.json' was skipped, could't match this file with any of these tasks: coco_panoptic\n",
      "WARNING:root:File './tests/assets/coco_dataset/coco/annotations/stuff_train.json' was skipped, could't match this file with any of these tasks: coco_panoptic\n",
      "WARNING:root:File './tests/assets/coco_dataset/coco/annotations/instances_train.json' was skipped, could't match this file with any of these tasks: coco_panoptic\n",
      "WARNING:root:File './tests/assets/coco_dataset/coco/annotations/labels_val.json' was skipped, could't match this file with any of these tasks: coco_panoptic\n",
      "WARNING:root:File './tests/assets/coco_dataset/coco/annotations/person_keypoints_val.json' was skipped, could't match this file with any of these tasks: coco_panoptic\n",
      "WARNING:root:File './tests/assets/coco_dataset/coco/annotations/captions_val.json' was skipped, could't match this file with any of these tasks: coco_panoptic\n",
      "WARNING:root:File './tests/assets/coco_dataset/coco/annotations/image_info_val.json' was skipped, could't match this file with any of these tasks: coco_panoptic\n",
      "WARNING:root:File './tests/assets/coco_dataset/coco/annotations/image_info_train.json' was skipped, could't match this file with any of these tasks: coco_panoptic\n",
      "WARNING:root:File './tests/assets/coco_dataset/coco/annotations/stuff_val.json' was skipped, could't match this file with any of these tasks: coco_panoptic\n",
      "1it [00:00, 115.41it/s]\n",
      "1it [00:00, 129.75it/s]"
     ]
    },
    {
     "name": "stdout",
     "output_type": "stream",
     "text": [
      "setting dataset time for 2 items:  0.02671194076538086\n"
     ]
    },
    {
     "name": "stderr",
     "output_type": "stream",
     "text": [
      "\n"
     ]
    },
    {
     "data": {
      "text/plain": [
       "Dataset\n",
       "\tsize=2\n",
       "\tsource_path=./tests/assets/coco_dataset/coco\n",
       "\tmedia_type=<class 'datumaro.components.media.Image'>\n",
       "\tannotated_items_count=2\n",
       "\tannotations_count=3\n",
       "subsets\n",
       "\ttrain: # of items=1, # of annotated items=1, # of annotations=1, annotation types=['mask']\n",
       "\tval: # of items=1, # of annotated items=1, # of annotations=2, annotation types=['mask']\n",
       "infos\n",
       "\tcategories\n",
       "\tlabel: ['a', 'b']"
      ]
     },
     "execution_count": 18,
     "metadata": {},
     "output_type": "execute_result"
    }
   ],
   "source": [
    "start_time = time.time()\n",
    "dataset = dm.Dataset.import_from('./tests/assets/coco_dataset/coco', 'coco_panoptic', save_hash=True)\n",
    "print(f'setting dataset time for {len(dataset)} items: ', time.time()-start_time)\n",
    "dataset"
   ]
  },
  {
   "cell_type": "code",
   "execution_count": 19,
   "id": "55ad5957",
   "metadata": {},
   "outputs": [
    {
     "name": "stderr",
     "output_type": "stream",
     "text": [
      "WARNING:root:File './tests/assets/coco_dataset/coco/annotations/labels_train.json' was skipped, could't match this file with any of these tasks: coco_stuff\n",
      "WARNING:root:File './tests/assets/coco_dataset/coco/annotations/instances_val.json' was skipped, could't match this file with any of these tasks: coco_stuff\n",
      "WARNING:root:File './tests/assets/coco_dataset/coco/annotations/panoptic_val.json' was skipped, could't match this file with any of these tasks: coco_stuff\n",
      "WARNING:root:File './tests/assets/coco_dataset/coco/annotations/captions_train.json' was skipped, could't match this file with any of these tasks: coco_stuff\n",
      "WARNING:root:File './tests/assets/coco_dataset/coco/annotations/person_keypoints_train.json' was skipped, could't match this file with any of these tasks: coco_stuff\n",
      "WARNING:root:File './tests/assets/coco_dataset/coco/annotations/instances_train.json' was skipped, could't match this file with any of these tasks: coco_stuff\n",
      "WARNING:root:File './tests/assets/coco_dataset/coco/annotations/panoptic_train.json' was skipped, could't match this file with any of these tasks: coco_stuff\n",
      "WARNING:root:File './tests/assets/coco_dataset/coco/annotations/labels_val.json' was skipped, could't match this file with any of these tasks: coco_stuff\n",
      "WARNING:root:File './tests/assets/coco_dataset/coco/annotations/person_keypoints_val.json' was skipped, could't match this file with any of these tasks: coco_stuff\n",
      "WARNING:root:File './tests/assets/coco_dataset/coco/annotations/captions_val.json' was skipped, could't match this file with any of these tasks: coco_stuff\n",
      "WARNING:root:File './tests/assets/coco_dataset/coco/annotations/image_info_val.json' was skipped, could't match this file with any of these tasks: coco_stuff\n",
      "WARNING:root:File './tests/assets/coco_dataset/coco/annotations/image_info_train.json' was skipped, could't match this file with any of these tasks: coco_stuff\n",
      "1it [00:00, 117.10it/s]\n",
      "1it [00:00, 132.79it/s]"
     ]
    },
    {
     "name": "stdout",
     "output_type": "stream",
     "text": [
      "setting dataset time for 2 items:  0.025534868240356445\n"
     ]
    },
    {
     "name": "stderr",
     "output_type": "stream",
     "text": [
      "\n"
     ]
    },
    {
     "data": {
      "text/plain": [
       "Dataset\n",
       "\tsize=2\n",
       "\tsource_path=./tests/assets/coco_dataset/coco\n",
       "\tmedia_type=<class 'datumaro.components.media.Image'>\n",
       "\tannotated_items_count=2\n",
       "\tannotations_count=2\n",
       "subsets\n",
       "\ttrain: # of items=1, # of annotated items=1, # of annotations=1, annotation types=['mask']\n",
       "\tval: # of items=1, # of annotated items=1, # of annotations=1, annotation types=['mask']\n",
       "infos\n",
       "\tcategories\n",
       "\tlabel: ['a', 'b']"
      ]
     },
     "execution_count": 19,
     "metadata": {},
     "output_type": "execute_result"
    }
   ],
   "source": [
    "start_time = time.time()\n",
    "dataset = dm.Dataset.import_from('./tests/assets/coco_dataset/coco', 'coco_stuff', save_hash=True)\n",
    "print(f'setting dataset time for {len(dataset)} items: ', time.time()-start_time)\n",
    "dataset"
   ]
  },
  {
   "cell_type": "markdown",
   "id": "5a94c4fa",
   "metadata": {},
   "source": [
    "### 10. MSCOCO_mask_rcnn"
   ]
  },
  {
   "cell_type": "markdown",
   "id": "2a1369dc",
   "metadata": {},
   "source": [
    "### 11. MSCOCO_keypoints"
   ]
  },
  {
   "cell_type": "code",
   "execution_count": 20,
   "id": "33fae23d",
   "metadata": {},
   "outputs": [
    {
     "name": "stderr",
     "output_type": "stream",
     "text": [
      "WARNING:root:File './tests/assets/coco_dataset/coco/annotations/labels_train.json' was skipped, could't match this file with any of these tasks: coco_person_keypoints\n",
      "WARNING:root:File './tests/assets/coco_dataset/coco/annotations/instances_val.json' was skipped, could't match this file with any of these tasks: coco_person_keypoints\n",
      "WARNING:root:File './tests/assets/coco_dataset/coco/annotations/panoptic_val.json' was skipped, could't match this file with any of these tasks: coco_person_keypoints\n",
      "WARNING:root:File './tests/assets/coco_dataset/coco/annotations/captions_train.json' was skipped, could't match this file with any of these tasks: coco_person_keypoints\n",
      "WARNING:root:File './tests/assets/coco_dataset/coco/annotations/stuff_train.json' was skipped, could't match this file with any of these tasks: coco_person_keypoints\n",
      "WARNING:root:File './tests/assets/coco_dataset/coco/annotations/instances_train.json' was skipped, could't match this file with any of these tasks: coco_person_keypoints\n",
      "WARNING:root:File './tests/assets/coco_dataset/coco/annotations/panoptic_train.json' was skipped, could't match this file with any of these tasks: coco_person_keypoints\n",
      "WARNING:root:File './tests/assets/coco_dataset/coco/annotations/labels_val.json' was skipped, could't match this file with any of these tasks: coco_person_keypoints\n",
      "WARNING:root:File './tests/assets/coco_dataset/coco/annotations/captions_val.json' was skipped, could't match this file with any of these tasks: coco_person_keypoints\n",
      "WARNING:root:File './tests/assets/coco_dataset/coco/annotations/image_info_val.json' was skipped, could't match this file with any of these tasks: coco_person_keypoints\n",
      "WARNING:root:File './tests/assets/coco_dataset/coco/annotations/image_info_train.json' was skipped, could't match this file with any of these tasks: coco_person_keypoints\n",
      "WARNING:root:File './tests/assets/coco_dataset/coco/annotations/stuff_val.json' was skipped, could't match this file with any of these tasks: coco_person_keypoints\n",
      "1it [00:00, 29.67it/s]\n",
      "1it [00:00, 144.95it/s]"
     ]
    },
    {
     "name": "stdout",
     "output_type": "stream",
     "text": [
      "setting dataset time for 2 items:  0.0514223575592041\n"
     ]
    },
    {
     "name": "stderr",
     "output_type": "stream",
     "text": [
      "\n"
     ]
    },
    {
     "data": {
      "text/plain": [
       "Dataset\n",
       "\tsize=2\n",
       "\tsource_path=./tests/assets/coco_dataset/coco\n",
       "\tmedia_type=<class 'datumaro.components.media.Image'>\n",
       "\tannotated_items_count=2\n",
       "\tannotations_count=6\n",
       "subsets\n",
       "\ttrain: # of items=1, # of annotated items=1, # of annotations=2, annotation types=['points', 'bbox']\n",
       "\tval: # of items=1, # of annotated items=1, # of annotations=4, annotation types=['polygon', 'points', 'mask']\n",
       "infos\n",
       "\tcategories\n",
       "\tlabel: ['a', 'b']\n",
       "\tpoints: []"
      ]
     },
     "execution_count": 20,
     "metadata": {},
     "output_type": "execute_result"
    }
   ],
   "source": [
    "start_time = time.time()\n",
    "dataset = dm.Dataset.import_from('./tests/assets/coco_dataset/coco', 'coco_person_keypoints', save_hash=True)\n",
    "print(f'setting dataset time for {len(dataset)} items: ', time.time()-start_time)\n",
    "dataset"
   ]
  },
  {
   "cell_type": "markdown",
   "id": "eaecaa6e",
   "metadata": {},
   "source": [
    "### 12. wider"
   ]
  },
  {
   "cell_type": "code",
   "execution_count": 21,
   "id": "f8dc7fc4",
   "metadata": {},
   "outputs": [
    {
     "name": "stdout",
     "output_type": "stream",
     "text": [
      "setting dataset time for 3 items:  0.0493013858795166\n",
      "DatasetItem(id='0_Parade_image_03', subset='val', media=<datumaro.components.media.Image object at 0x7f916691b650>, annotations=[Label(id=0, attributes={}, group=0, label=0), Bbox(id=0, attributes={'blur': '2', 'expression': '0', 'illumination': '0', 'occluded': '0', 'pose': '2', 'invalid': '0'}, group=0, points=[0.0, 0.0, 1.0, 1.0], label=None, z_order=0), Bbox(id=0, attributes={'blur': '0', 'expression': '0', 'illumination': '0', 'occluded': '1', 'pose': '0', 'invalid': '0'}, group=0, points=[3.0, 2.0, 4.0, 4.0], label=None, z_order=0), Bbox(id=0, attributes={'blur': '2', 'expression': '0', 'illumination': '0', 'occluded': '0', 'pose': '2', 'invalid': '0'}, group=0, points=[5.0, 6.0, 6.0, 7.0], label=None, z_order=0)], attributes={}, hash_key=['09effa1b4c54099b48ce2f97ca195100f5115aad2e1aad36e1abfaf8fd10c0c7a167ddf6b539399e7ddaf32ba0b1ee07a038369e6ad898e50a2cf98912248bcc'])\n",
      "DatasetItem(id='0_Parade_image_01', subset='train', media=<datumaro.components.media.Image object at 0x7f916691b950>, annotations=[Label(id=0, attributes={}, group=0, label=0), Bbox(id=0, attributes={'blur': '0', 'expression': '0', 'illumination': '0', 'occluded': '0', 'pose': '0', 'invalid': '0'}, group=0, points=[1.0, 2.0, 3.0, 4.0], label=None, z_order=0)], attributes={}, hash_key=['09effa1b4c54099b48ce2f97ca195100f5115aad2e1aad36e1abfaf8fd10c0c7a167ddf6b539399e7ddaf32ba0b1ee07a038369e6ad898e50a2cf98912248bcc'])\n",
      "DatasetItem(id='1_Handshaking_image_02', subset='train', media=<datumaro.components.media.Image object at 0x7f9166912a90>, annotations=[Label(id=0, attributes={}, group=0, label=1), Bbox(id=0, attributes={'blur': '0', 'expression': '0', 'illumination': '1', 'occluded': '0', 'pose': '0', 'invalid': '0'}, group=0, points=[1.0, 1.0, 3.0, 3.0], label=None, z_order=0), Bbox(id=0, attributes={'blur': '0', 'expression': '0', 'illumination': '1', 'occluded': '0', 'pose': '0', 'invalid': '0'}, group=0, points=[5.0, 1.0, 7.0, 3.0], label=None, z_order=0)], attributes={}, hash_key=['09effa1b4c54099b48ce2f97ca195100f5115aad2e1aad36e1abfaf8fd10c0c7a167ddf6b539399e7ddaf32ba0b1ee07a038369e6ad898e50a2cf98912248bcc'])\n"
     ]
    }
   ],
   "source": [
    "start_time = time.time()\n",
    "dataset = dm.Dataset.import_from('./tests/assets/widerface_dataset', 'wider_face', save_hash=True)\n",
    "print(f'setting dataset time for {len(dataset)} items: ', time.time()-start_time)\n",
    "dataset\n",
    "for i, item in enumerate(dataset):\n",
    "    print(item)"
   ]
  },
  {
   "cell_type": "markdown",
   "id": "ab25c774",
   "metadata": {},
   "source": [
    "### 13. detection_opencv_storage"
   ]
  },
  {
   "cell_type": "markdown",
   "id": "6cfca11f",
   "metadata": {},
   "source": [
    "### 14. cityscapes"
   ]
  },
  {
   "cell_type": "code",
   "execution_count": 22,
   "id": "9fcbcf7a",
   "metadata": {},
   "outputs": [
    {
     "name": "stdout",
     "output_type": "stream",
     "text": [
      "setting dataset time for 4 items:  0.06369733810424805\n"
     ]
    },
    {
     "data": {
      "text/plain": [
       "Dataset\n",
       "\tsize=4\n",
       "\tsource_path=./tests/assets/cityscapes_dataset/dataset\n",
       "\tmedia_type=<class 'datumaro.components.media.Image'>\n",
       "\tannotated_items_count=4\n",
       "\tannotations_count=10\n",
       "subsets\n",
       "\ttest: # of items=2, # of annotated items=2, # of annotations=6, annotation types=['mask']\n",
       "\ttrain: # of items=1, # of annotated items=1, # of annotations=2, annotation types=['mask']\n",
       "\tval: # of items=1, # of annotated items=1, # of annotations=2, annotation types=['mask']\n",
       "infos\n",
       "\tcategories\n",
       "\tlabel: ['unlabeled', 'egovehicle', 'rectificationborder', 'outofroi', 'static', 'dynamic', 'ground', 'road', 'sidewalk', 'parking', 'railtrack', 'building', 'wall', 'fence', 'guardrail', 'bridge', 'tunnel', 'pole', 'polegroup', 'trafficlight', 'trafficsign', 'vegetation', 'terrain', 'sky', 'person', 'rider', 'car', 'truck', 'bus', 'caravan', 'trailer', 'train', 'motorcycle', 'bicycle', 'licenseplate']\n",
       "\tmask: []"
      ]
     },
     "execution_count": 22,
     "metadata": {},
     "output_type": "execute_result"
    }
   ],
   "source": [
    "start_time = time.time()\n",
    "dataset = dm.Dataset.import_from('./tests/assets/cityscapes_dataset/dataset', save_hash=True)\n",
    "print(f'setting dataset time for {len(dataset)} items: ', time.time()-start_time)\n",
    "dataset"
   ]
  },
  {
   "cell_type": "markdown",
   "id": "cda2bf18",
   "metadata": {},
   "source": [
    "### 15. mapillary_20"
   ]
  },
  {
   "cell_type": "markdown",
   "id": "5be1800e",
   "metadata": {},
   "source": [
    "### 16. mapillary_vistas"
   ]
  },
  {
   "cell_type": "code",
   "execution_count": 23,
   "id": "dfbfa9b8",
   "metadata": {},
   "outputs": [
    {
     "name": "stdout",
     "output_type": "stream",
     "text": [
      "setting dataset time for 2 items:  0.006455659866333008\n",
      "DatasetItem(id='1', subset='train', media=<datumaro.components.media.Image object at 0x7f91a01c6510>, annotations=[Mask(id=0, attributes={}, group=0, _image=<function _MapillaryVistasExtractor._lazy_extract_mask.<locals>.<lambda> at 0x7f92901c1200>, label=0, z_order=0), Mask(id=1, attributes={}, group=0, _image=<function _MapillaryVistasExtractor._lazy_extract_mask.<locals>.<lambda> at 0x7f91a0840cb0>, label=0, z_order=0), Mask(id=0, attributes={}, group=0, _image=<function _MapillaryVistasExtractor._lazy_extract_mask.<locals>.<lambda> at 0x7f91a0840b90>, label=1, z_order=0)], attributes={}, hash_key=[])\n",
      "DatasetItem(id='2', subset='train', media=<datumaro.components.media.Image object at 0x7f9166890290>, annotations=[Mask(id=0, attributes={}, group=0, _image=<function _MapillaryVistasExtractor._lazy_extract_mask.<locals>.<lambda> at 0x7f91668c5440>, label=1, z_order=0), Mask(id=0, attributes={}, group=0, _image=<function _MapillaryVistasExtractor._lazy_extract_mask.<locals>.<lambda> at 0x7f91668a0200>, label=2, z_order=0)], attributes={}, hash_key=[])\n"
     ]
    }
   ],
   "source": [
    "start_time = time.time()\n",
    "dataset = dm.Dataset.import_from('./tests/assets/mapillary_vistas_dataset/dataset_with_meta_file', 'mapillary_vistas', save_hash=True)\n",
    "print(f'setting dataset time for {len(dataset)} items: ', time.time()-start_time)\n",
    "dataset\n",
    "for i, item in enumerate(dataset):\n",
    "    print(item)"
   ]
  },
  {
   "cell_type": "markdown",
   "id": "7ab6b466",
   "metadata": {},
   "source": [
    "### 17. vgg_face"
   ]
  },
  {
   "cell_type": "code",
   "execution_count": 24,
   "id": "613d9d4a",
   "metadata": {},
   "outputs": [
    {
     "name": "stdout",
     "output_type": "stream",
     "text": [
      "setting dataset time for 4 items:  0.05566072463989258\n",
      "DatasetItem(id='n000001/0001_01', subset='train', media=<datumaro.components.media.Image object at 0x7f91668b5850>, annotations=[Points(id=0, attributes={}, group=0, points=[2.79, 2.9, 2.96, 2.79, 2.8, 2.46, 2.81, 2.32, 2.89, 2.3], label=0, z_order=0, visibility=[<Visibility.visible: 2>, <Visibility.visible: 2>, <Visibility.visible: 2>, <Visibility.visible: 2>, <Visibility.visible: 2>]), Bbox(id=0, attributes={}, group=0, points=[2.0, 2.0, 3.0, 4.0], label=0, z_order=0)], attributes={}, hash_key=['09effa1b4c54099b48ce2f97ca195100f5115aad2e1aad36e1abfaf8fd10c0c7a167ddf6b539399e7ddaf32ba0b1ee07a038369e6ad898e50a2cf98912248bcc'])\n",
      "DatasetItem(id='n000002/0001_01', subset='train', media=<datumaro.components.media.Image object at 0x7f91668b58d0>, annotations=[Points(id=0, attributes={}, group=0, points=[2.3, 4.9, 2.9, 4.93, 2.62, 4.74, 2.54, 4.45, 2.76, 4.43], label=1, z_order=0, visibility=[<Visibility.visible: 2>, <Visibility.visible: 2>, <Visibility.visible: 2>, <Visibility.visible: 2>, <Visibility.visible: 2>]), Bbox(id=0, attributes={}, group=0, points=[2.0, 4.0, 4.0, 6.0], label=1, z_order=0)], attributes={}, hash_key=['09effa1b4c54099b48ce2f97ca195100f5115aad2e1aad36e1abfaf8fd10c0c7a167ddf6b539399e7ddaf32ba0b1ee07a038369e6ad898e50a2cf98912248bcc'])\n",
      "DatasetItem(id='n000002/0002_01', subset='train', media=<datumaro.components.media.Image object at 0x7f9166922c90>, annotations=[Points(id=0, attributes={}, group=0, points=[1.2, 3.8, 1.8, 3.82, 1.51, 3.63, 1.43, 3.34, 1.65, 3.32], label=1, z_order=0, visibility=[<Visibility.visible: 2>, <Visibility.visible: 2>, <Visibility.visible: 2>, <Visibility.visible: 2>, <Visibility.visible: 2>]), Bbox(id=0, attributes={}, group=0, points=[1.0, 3.0, 2.0, 4.0], label=1, z_order=0)], attributes={}, hash_key=['09effa1b4c54099b48ce2f97ca195100f5115aad2e1aad36e1abfaf8fd10c0c7a167ddf6b539399e7ddaf32ba0b1ee07a038369e6ad898e50a2cf98912248bcc'])\n",
      "DatasetItem(id='n000003/0003_01', subset='test', media=<datumaro.components.media.Image object at 0x7f91668b5f10>, annotations=[Points(id=0, attributes={}, group=0, points=[0.2, 2.8, 0.8, 2.9, 0.5, 2.6, 0.4, 2.3, 0.6, 2.3], label=2, z_order=0, visibility=[<Visibility.visible: 2>, <Visibility.visible: 2>, <Visibility.visible: 2>, <Visibility.visible: 2>, <Visibility.visible: 2>]), Bbox(id=0, attributes={}, group=0, points=[1.0, 1.0, 2.0, 2.0], label=2, z_order=0)], attributes={}, hash_key=['09effa1b4c54099b48ce2f97ca195100f5115aad2e1aad36e1abfaf8fd10c0c7a167ddf6b539399e7ddaf32ba0b1ee07a038369e6ad898e50a2cf98912248bcc'])\n"
     ]
    }
   ],
   "source": [
    "start_time = time.time()\n",
    "dataset = dm.Dataset.import_from('./tests/assets/vgg_face2_dataset', 'vgg_face2', save_hash=True)\n",
    "print(f'setting dataset time for {len(dataset)} items: ', time.time()-start_time)\n",
    "dataset\n",
    "for i, item in enumerate(dataset):\n",
    "    print(item)"
   ]
  },
  {
   "cell_type": "markdown",
   "id": "f5aaba75",
   "metadata": {},
   "source": [
    "### 18. lfw"
   ]
  },
  {
   "cell_type": "code",
   "execution_count": 25,
   "id": "e4256a9c",
   "metadata": {},
   "outputs": [
    {
     "name": "stdout",
     "output_type": "stream",
     "text": [
      "setting dataset time for 3 items:  0.04883313179016113\n",
      "DatasetItem(id='name1_0001', subset='test', media=<datumaro.components.media.Image object at 0x7f91668b4d10>, annotations=[Label(id=0, attributes={'positive_pairs': ['name1/name1_0002']}, group=0, label=1), Points(id=0, attributes={}, group=0, points=[1.0, 6.0, 4.0, 6.0, 3.0, 3.0, 2.0, 1.0, 4.0, 1.0], label=1, z_order=0, visibility=[<Visibility.visible: 2>, <Visibility.visible: 2>, <Visibility.visible: 2>, <Visibility.visible: 2>, <Visibility.visible: 2>])], attributes={}, hash_key=['09effa1b4c54099b48ce2f97ca195100f5115aad2e1aad36e1abfaf8fd10c0c7a167ddf6b539399e7ddaf32ba0b1ee07a038369e6ad898e50a2cf98912248bcc'])\n",
      "DatasetItem(id='name1_0002', subset='test', media=<datumaro.components.media.Image object at 0x7f916689d410>, annotations=[Label(id=0, attributes={}, group=0, label=1), Points(id=0, attributes={}, group=0, points=[0.0, 5.0, 3.0, 5.0, 2.0, 2.0, 1.0, 0.0, 3.0, 0.0], label=1, z_order=0, visibility=[<Visibility.visible: 2>, <Visibility.visible: 2>, <Visibility.visible: 2>, <Visibility.visible: 2>, <Visibility.visible: 2>])], attributes={}, hash_key=['09effa1b4c54099b48ce2f97ca195100f5115aad2e1aad36e1abfaf8fd10c0c7a167ddf6b539399e7ddaf32ba0b1ee07a038369e6ad898e50a2cf98912248bcc'])\n",
      "DatasetItem(id='name0_0001', subset='test', media=<datumaro.components.media.Image object at 0x7f9166932fd0>, annotations=[Label(id=0, attributes={'negative_pairs': ['name1/name1_0001', 'name1/name1_0002']}, group=0, label=0), Points(id=0, attributes={}, group=0, points=[0.0, 4.0, 3.0, 3.0, 2.0, 2.0, 1.0, 0.0, 3.0, 0.0], label=0, z_order=0, visibility=[<Visibility.visible: 2>, <Visibility.visible: 2>, <Visibility.visible: 2>, <Visibility.visible: 2>, <Visibility.visible: 2>])], attributes={}, hash_key=['09effa1b4c54099b48ce2f97ca195100f5115aad2e1aad36e1abfaf8fd10c0c7a167ddf6b539399e7ddaf32ba0b1ee07a038369e6ad898e50a2cf98912248bcc'])\n"
     ]
    }
   ],
   "source": [
    "start_time = time.time()\n",
    "dataset = dm.Dataset.import_from('./tests/assets/lfw_dataset', 'lfw', save_hash=True)\n",
    "print(f'setting dataset time for {len(dataset)} items: ', time.time()-start_time)\n",
    "dataset\n",
    "for i, item in enumerate(dataset):\n",
    "    print(item)"
   ]
  },
  {
   "cell_type": "markdown",
   "id": "859006a5",
   "metadata": {},
   "source": [
    "### 19. face_recognition_bin"
   ]
  },
  {
   "cell_type": "markdown",
   "id": "0447d9c4",
   "metadata": {},
   "source": [
    "### 20. mars"
   ]
  },
  {
   "cell_type": "code",
   "execution_count": 26,
   "id": "b9cdd0d6",
   "metadata": {},
   "outputs": [
    {
     "name": "stdout",
     "output_type": "stream",
     "text": [
      "setting dataset time for 3 items:  0.048975229263305664\n",
      "DatasetItem(id='00-1C2T0081F201', subset='test', media=<datumaro.components.media.Image object at 0x7f916683db10>, annotations=[Label(id=0, attributes={}, group=0, label=0)], attributes={'person_id': '00-1', 'camera_id': 2, 'track_id': 81, 'frame_id': 201}, hash_key=['09effa1b4c54099b48ce2f97ca195100f5115aad2e1aad36e1abfaf8fd10c0c7a167ddf6b539399e7ddaf32ba0b1ee07a038369e6ad898e50a2cf98912248bcc'])\n",
      "DatasetItem(id='0000C6T0101F001', subset='train', media=<datumaro.components.media.Image object at 0x7f916683ded0>, annotations=[Label(id=0, attributes={}, group=0, label=1)], attributes={'person_id': '0000', 'camera_id': 6, 'track_id': 101, 'frame_id': 1}, hash_key=['09effa1b4c54099b48ce2f97ca195100f5115aad2e1aad36e1abfaf8fd10c0c7a167ddf6b539399e7ddaf32ba0b1ee07a038369e6ad898e50a2cf98912248bcc'])\n",
      "DatasetItem(id='0001C1T0001F001', subset='train', media=<datumaro.components.media.Image object at 0x7f916683df50>, annotations=[Label(id=0, attributes={}, group=0, label=2)], attributes={'person_id': '0001', 'camera_id': 1, 'track_id': 1, 'frame_id': 1}, hash_key=['09effa1b4c54099b48ce2f97ca195100f5115aad2e1aad36e1abfaf8fd10c0c7a167ddf6b539399e7ddaf32ba0b1ee07a038369e6ad898e50a2cf98912248bcc'])\n"
     ]
    }
   ],
   "source": [
    "start_time = time.time()\n",
    "dataset = dm.Dataset.import_from('./tests/assets/mars_dataset', 'mars', save_hash=True)\n",
    "print(f'setting dataset time for {len(dataset)} items: ', time.time()-start_time)\n",
    "dataset\n",
    "for i, item in enumerate(dataset):\n",
    "    print(item)"
   ]
  },
  {
   "cell_type": "markdown",
   "id": "97b15055",
   "metadata": {},
   "source": [
    "### 21. Market1501"
   ]
  },
  {
   "cell_type": "code",
   "execution_count": 28,
   "id": "196bdfab",
   "metadata": {},
   "outputs": [
    {
     "name": "stdout",
     "output_type": "stream",
     "text": [
      "setting dataset time for 3 items:  0.06012916564941406\n",
      "DatasetItem(id='assets/market1501_dataset/query/0001_c2s3_000111_00', subset='query', media=<datumaro.components.media.Image object at 0x7f9166847f10>, annotations=[], attributes={'person_id': '0001', 'camera_id': 1, 'track_id': 3, 'frame_id': 111, 'bbox_id': 0, 'query': True}, hash_key=['09effa1b4c54099b48ce2f97ca195100f5115aad2e1aad36e1abfaf8fd10c0c7a167ddf6b539399e7ddaf32ba0b1ee07a038369e6ad898e50a2cf98912248bcc'])\n",
      "DatasetItem(id='assets/market1501_dataset/bounding_box_train/0002_c1s3_000151_00', subset='train', media=<datumaro.components.media.Image object at 0x7f9166847cd0>, annotations=[], attributes={'person_id': '0002', 'camera_id': 0, 'track_id': 3, 'frame_id': 151, 'bbox_id': 0, 'query': False}, hash_key=['09effa1b4c54099b48ce2f97ca195100f5115aad2e1aad36e1abfaf8fd10c0c7a167ddf6b539399e7ddaf32ba0b1ee07a038369e6ad898e50a2cf98912248bcc'])\n",
      "DatasetItem(id='assets/market1501_dataset/bounding_box_test/0001_c1s1_001051_00', subset='test', media=<datumaro.components.media.Image object at 0x7f916691ab50>, annotations=[], attributes={'person_id': '0001', 'camera_id': 0, 'track_id': 1, 'frame_id': 1051, 'bbox_id': 0, 'query': False}, hash_key=['09effa1b4c54099b48ce2f97ca195100f5115aad2e1aad36e1abfaf8fd10c0c7a167ddf6b539399e7ddaf32ba0b1ee07a038369e6ad898e50a2cf98912248bcc'])\n"
     ]
    }
   ],
   "source": [
    "start_time = time.time()\n",
    "dataset = dm.Dataset.import_from('./tests/assets/market1501_dataset', 'market1501', save_hash=True)\n",
    "print(f'setting dataset time for {len(dataset)} items: ', time.time()-start_time)\n",
    "dataset\n",
    "for i, item in enumerate(dataset):\n",
    "    print(item)"
   ]
  },
  {
   "cell_type": "markdown",
   "id": "c2ceac1f",
   "metadata": {},
   "source": [
    "### 22. veri776_reid"
   ]
  },
  {
   "cell_type": "markdown",
   "id": "57f97e52",
   "metadata": {},
   "source": [
    "### 23. Image_processing"
   ]
  },
  {
   "cell_type": "markdown",
   "id": "e77cc051",
   "metadata": {},
   "source": [
    "### 24. Image_generation"
   ]
  },
  {
   "cell_type": "markdown",
   "id": "91225330",
   "metadata": {},
   "source": [
    "### 25. parametric_image_processing"
   ]
  },
  {
   "cell_type": "markdown",
   "id": "052f573a",
   "metadata": {},
   "source": [
    "### 26. super_resolution"
   ]
  },
  {
   "cell_type": "code",
   "execution_count": 37,
   "id": "9be58a01",
   "metadata": {},
   "outputs": [
    {
     "name": "stdout",
     "output_type": "stream",
     "text": [
      "setting dataset time for 2 items:  0.002689361572265625\n",
      "DatasetItem(id='1', subset='default', media=<datumaro.components.media.Image object at 0x7f91667fc710>, annotations=[SuperResolutionAnnotation(id=0, attributes={}, group=0, image=<datumaro.components.media.Image object at 0x7f91667fc910>)], attributes={'upsampled': <datumaro.components.media.Image object at 0x7f91667fc550>}, hash_key=[])\n",
      "DatasetItem(id='2', subset='default', media=<datumaro.components.media.Image object at 0x7f91667fc510>, annotations=[SuperResolutionAnnotation(id=0, attributes={}, group=0, image=<datumaro.components.media.Image object at 0x7f91667fc990>)], attributes={'upsampled': <datumaro.components.media.Image object at 0x7f91667fc8d0>}, hash_key=[])\n"
     ]
    }
   ],
   "source": [
    "start_time = time.time()\n",
    "dataset = dm.Dataset.import_from('./tests/assets/common_super_resolution_dataset', 'common_super_resolution')\n",
    "print(f'setting dataset time for {len(dataset)} items: ', time.time()-start_time)\n",
    "dataset\n",
    "for i, item in enumerate(dataset):\n",
    "    print(item)"
   ]
  },
  {
   "cell_type": "markdown",
   "id": "730822b9",
   "metadata": {},
   "source": [
    "### 27. super_resolution_dir_based"
   ]
  },
  {
   "cell_type": "markdown",
   "id": "dc71298f",
   "metadata": {},
   "source": [
    "### 28. multi_frame_super_resolution"
   ]
  },
  {
   "cell_type": "markdown",
   "id": "135e529b",
   "metadata": {},
   "source": [
    "### 29. multi_target_super_resolution"
   ]
  },
  {
   "cell_type": "markdown",
   "id": "eee461ac",
   "metadata": {},
   "source": [
    "### 30. icdar_detection"
   ]
  },
  {
   "cell_type": "code",
   "execution_count": 32,
   "id": "2e9d0d4e",
   "metadata": {},
   "outputs": [
    {
     "name": "stdout",
     "output_type": "stream",
     "text": [
      "setting dataset time for 2 items:  0.040836334228515625\n",
      "DatasetItem(id='img_1', subset='train', media=<datumaro.components.media.Image object at 0x7f91668b5a10>, annotations=[Polygon(id=0, attributes={'text': 'FOOD'}, group=0, points=[0.0, 0.0, 3.0, 1.0, 4.0, 6.0, 1.0, 7.0], label=None, z_order=0)], attributes={}, hash_key=['09effa1b4c54099b48ce2f97ca195100f5115aad2e1aad36e1abfaf8fd10c0c7a167ddf6b539399e7ddaf32ba0b1ee07a038369e6ad898e50a2cf98912248bcc'])\n",
      "DatasetItem(id='img_2', subset='train', media=<datumaro.components.media.Image object at 0x7f9166847a50>, annotations=[Bbox(id=0, attributes={'text': 'RED'}, group=0, points=[0.0, 0.0, 2.0, 3.0], label=None, z_order=0), Bbox(id=0, attributes={'text': 'LION'}, group=0, points=[3.0, 3.0, 5.0, 6.0], label=None, z_order=0)], attributes={}, hash_key=['09effa1b4c54099b48ce2f97ca195100f5115aad2e1aad36e1abfaf8fd10c0c7a167ddf6b539399e7ddaf32ba0b1ee07a038369e6ad898e50a2cf98912248bcc'])\n"
     ]
    }
   ],
   "source": [
    "start_time = time.time()\n",
    "dataset = dm.Dataset.import_from('./tests/assets/icdar_dataset/text_localization', 'icdar_text_localization', save_hash=True)\n",
    "print(f'setting dataset time for {len(dataset)} items: ', time.time()-start_time)\n",
    "dataset\n",
    "for i, item in enumerate(dataset):\n",
    "    print(item)"
   ]
  },
  {
   "cell_type": "markdown",
   "id": "24ae64ab",
   "metadata": {},
   "source": [
    "### 31. icdar13_recognition"
   ]
  },
  {
   "cell_type": "code",
   "execution_count": 30,
   "id": "412b60f8",
   "metadata": {},
   "outputs": [
    {
     "name": "stdout",
     "output_type": "stream",
     "text": [
      "setting dataset time for 2 items:  0.040352582931518555\n",
      "DatasetItem(id='word_1', subset='train', media=<datumaro.components.media.Image object at 0x7f916685f990>, annotations=[Caption(id=0, attributes={}, group=0, caption='PROPER')], attributes={}, hash_key=['09effa1b4c54099b48ce2f97ca195100f5115aad2e1aad36e1abfaf8fd10c0c7a167ddf6b539399e7ddaf32ba0b1ee07a038369e6ad898e50a2cf98912248bcc'])\n",
      "DatasetItem(id='word_2', subset='train', media=<datumaro.components.media.Image object at 0x7f9166930650>, annotations=[Caption(id=0, attributes={}, group=0, caption='Canon')], attributes={}, hash_key=['09effa1b4c54099b48ce2f97ca195100f5115aad2e1aad36e1abfaf8fd10c0c7a167ddf6b539399e7ddaf32ba0b1ee07a038369e6ad898e50a2cf98912248bcc'])\n"
     ]
    }
   ],
   "source": [
    "start_time = time.time()\n",
    "dataset = dm.Dataset.import_from('./tests/assets/icdar_dataset/word_recognition', 'icdar_word_recognition', save_hash=True)\n",
    "print(f'setting dataset time for {len(dataset)} items: ', time.time()-start_time)\n",
    "dataset\n",
    "for i, item in enumerate(dataset):\n",
    "    print(item)"
   ]
  },
  {
   "cell_type": "markdown",
   "id": "9f2075bd",
   "metadata": {},
   "source": [
    "### 32. lmdb_text_recognition_database"
   ]
  },
  {
   "cell_type": "markdown",
   "id": "1ab42f3c",
   "metadata": {},
   "source": [
    "### 33. unicode_character_recognition"
   ]
  },
  {
   "cell_type": "code",
   "execution_count": null,
   "id": "6fa471c5",
   "metadata": {},
   "outputs": [],
   "source": []
  },
  {
   "cell_type": "markdown",
   "id": "55c2e80c",
   "metadata": {},
   "source": [
    "### 34. bentham_lines"
   ]
  },
  {
   "cell_type": "code",
   "execution_count": null,
   "id": "8151a4fa",
   "metadata": {},
   "outputs": [],
   "source": []
  },
  {
   "cell_type": "markdown",
   "id": "5ded65e8",
   "metadata": {},
   "source": [
    "### 35. brats"
   ]
  },
  {
   "cell_type": "code",
   "execution_count": 34,
   "id": "906230f9",
   "metadata": {},
   "outputs": [
    {
     "name": "stdout",
     "output_type": "stream",
     "text": [
      "setting dataset time for 2 items:  0.0058956146240234375\n",
      "DatasetItem(id='BRATS_001', subset='train', media=<datumaro.components.media.MultiframeImage object at 0x7f916683d990>, annotations=[Mask(id=0, attributes={'image_id': 0}, group=0, _image=<function BratsExtractor._lazy_extract_mask.<locals>.<lambda> at 0x7f91668a79e0>, label=0, z_order=0), Mask(id=0, attributes={'image_id': 0}, group=0, _image=<function BratsExtractor._lazy_extract_mask.<locals>.<lambda> at 0x7f916689bcb0>, label=1, z_order=0), Mask(id=0, attributes={'image_id': 1}, group=0, _image=<function BratsExtractor._lazy_extract_mask.<locals>.<lambda> at 0x7f91668455f0>, label=0, z_order=0), Mask(id=0, attributes={'image_id': 1}, group=0, _image=<function BratsExtractor._lazy_extract_mask.<locals>.<lambda> at 0x7f9166853dd0>, label=1, z_order=0), Mask(id=0, attributes={'image_id': 1}, group=0, _image=<function BratsExtractor._lazy_extract_mask.<locals>.<lambda> at 0x7f9166853950>, label=2, z_order=0)], attributes={}, hash_key=[])\n",
      "DatasetItem(id='BRATS_002', subset='test', media=<datumaro.components.media.MultiframeImage object at 0x7f9166871510>, annotations=[], attributes={}, hash_key=[])\n"
     ]
    }
   ],
   "source": [
    "start_time = time.time()\n",
    "dataset = dm.Dataset.import_from('./tests/assets/brats_dataset', 'brats')\n",
    "print(f'setting dataset time for {len(dataset)} items: ', time.time()-start_time)\n",
    "dataset\n",
    "for i, item in enumerate(dataset):\n",
    "    print(item)"
   ]
  },
  {
   "cell_type": "markdown",
   "id": "a5423957",
   "metadata": {},
   "source": [
    "### 36. k_space_mri"
   ]
  },
  {
   "cell_type": "markdown",
   "id": "71a9040b",
   "metadata": {},
   "source": [
    "### 37. movie_lens_converter"
   ]
  },
  {
   "cell_type": "markdown",
   "id": "dcfdc972",
   "metadata": {},
   "source": [
    "### 38. brats_numpy"
   ]
  },
  {
   "cell_type": "code",
   "execution_count": 2,
   "id": "d7b88a76",
   "metadata": {},
   "outputs": [
    {
     "name": "stdout",
     "output_type": "stream",
     "text": [
      "setting dataset time for 2 items:  0.2915463447570801\n",
      "DatasetItem(id='HGG_val0', subset='default', media=<datumaro.components.media.MultiframeImage object at 0x7f27551bafd0>, annotations=[Mask(id=0, attributes={'image_id': 0}, group=0, _image=<function BratsNumpyExtractor._lazy_extract_mask.<locals>.<lambda> at 0x7f2757083c20>, label=0, z_order=0), Mask(id=0, attributes={'image_id': 0}, group=0, _image=<function BratsNumpyExtractor._lazy_extract_mask.<locals>.<lambda> at 0x7f27551b4dd0>, label=1, z_order=0), Mask(id=0, attributes={'image_id': 1}, group=0, _image=<function BratsNumpyExtractor._lazy_extract_mask.<locals>.<lambda> at 0x7f27551b4e60>, label=0, z_order=0), Mask(id=0, attributes={'image_id': 1}, group=0, _image=<function BratsNumpyExtractor._lazy_extract_mask.<locals>.<lambda> at 0x7f27551b4ef0>, label=1, z_order=0), Mask(id=0, attributes={'image_id': 1}, group=0, _image=<function BratsNumpyExtractor._lazy_extract_mask.<locals>.<lambda> at 0x7f27551b4f80>, label=2, z_order=0), Cuboid3d(id=0, attributes={}, group=0, _points=[1, 1, 1, 2, 2, 2, 1, 1, 1], label=None)], attributes={}, hash_key=[])\n",
      "DatasetItem(id='HGG_val1', subset='default', media=<datumaro.components.media.MultiframeImage object at 0x7f27551ba8d0>, annotations=[Mask(id=0, attributes={'image_id': 0}, group=0, _image=<function BratsNumpyExtractor._lazy_extract_mask.<locals>.<lambda> at 0x7f2755159050>, label=0, z_order=0), Mask(id=0, attributes={'image_id': 0}, group=0, _image=<function BratsNumpyExtractor._lazy_extract_mask.<locals>.<lambda> at 0x7f2755159440>, label=1, z_order=0), Mask(id=0, attributes={'image_id': 1}, group=0, _image=<function BratsNumpyExtractor._lazy_extract_mask.<locals>.<lambda> at 0x7f27551594d0>, label=0, z_order=0), Mask(id=0, attributes={'image_id': 1}, group=0, _image=<function BratsNumpyExtractor._lazy_extract_mask.<locals>.<lambda> at 0x7f2755159560>, label=1, z_order=0), Mask(id=0, attributes={'image_id': 1}, group=0, _image=<function BratsNumpyExtractor._lazy_extract_mask.<locals>.<lambda> at 0x7f27551595f0>, label=3, z_order=0), Cuboid3d(id=0, attributes={}, group=0, _points=[0, 0, 0, 1, 1, 1, 1, 1, 1], label=None)], attributes={}, hash_key=[])\n"
     ]
    }
   ],
   "source": [
    "start_time = time.time()\n",
    "dataset = dm.Dataset.import_from('./tests/assets/brats_numpy_dataset', 'brats_numpy')\n",
    "print(f'setting dataset time for {len(dataset)} items: ', time.time()-start_time)\n",
    "dataset\n",
    "for i, item in enumerate(dataset):\n",
    "    print(item)"
   ]
  },
  {
   "cell_type": "markdown",
   "id": "55583d48",
   "metadata": {},
   "source": [
    "### 39. wmt"
   ]
  },
  {
   "cell_type": "markdown",
   "id": "77926a5d",
   "metadata": {},
   "source": [
    "### 40. common_semantic_segmentation"
   ]
  },
  {
   "cell_type": "code",
   "execution_count": 36,
   "id": "5db9ae8a",
   "metadata": {},
   "outputs": [
    {
     "name": "stdout",
     "output_type": "stream",
     "text": [
      "setting dataset time for 2 items:  0.0033979415893554688\n",
      "DatasetItem(id='0001', subset='default', media=<datumaro.components.media.Image object at 0x7f9166844190>, annotations=[Mask(id=0, attributes={}, group=0, _image=<function CommonSemanticSegmentationExtractor._lazy_extract_mask.<locals>.<lambda> at 0x7f91668455f0>, label=3, z_order=0), Mask(id=0, attributes={}, group=0, _image=<function CommonSemanticSegmentationExtractor._lazy_extract_mask.<locals>.<lambda> at 0x7f91668a7f80>, label=5, z_order=0)], attributes={}, hash_key=[])\n",
      "DatasetItem(id='0002', subset='default', media=<datumaro.components.media.Image object at 0x7f91668440d0>, annotations=[Mask(id=0, attributes={}, group=0, _image=<function CommonSemanticSegmentationExtractor._lazy_extract_mask.<locals>.<lambda> at 0x7f91668a7c20>, label=1, z_order=0), Mask(id=0, attributes={}, group=0, _image=<function CommonSemanticSegmentationExtractor._lazy_extract_mask.<locals>.<lambda> at 0x7f91668a79e0>, label=4, z_order=0)], attributes={}, hash_key=[])\n"
     ]
    }
   ],
   "source": [
    "start_time = time.time()\n",
    "dataset = dm.Dataset.import_from('./tests/assets/common_semantic_segmentation_dataset/dataset', 'common_semantic_segmentation')\n",
    "print(f'setting dataset time for {len(dataset)} items: ', time.time()-start_time)\n",
    "dataset\n",
    "for i, item in enumerate(dataset):\n",
    "    print(item)"
   ]
  },
  {
   "cell_type": "markdown",
   "id": "853d0bcd",
   "metadata": {},
   "source": [
    "### 41. background_matting"
   ]
  },
  {
   "cell_type": "markdown",
   "id": "3c36de46",
   "metadata": {},
   "source": [
    "### 42. background_matting_sequential"
   ]
  },
  {
   "cell_type": "markdown",
   "id": "ae41b775",
   "metadata": {},
   "source": [
    "### 43. camvid"
   ]
  },
  {
   "cell_type": "code",
   "execution_count": 39,
   "id": "58d71b14",
   "metadata": {},
   "outputs": [
    {
     "name": "stdout",
     "output_type": "stream",
     "text": [
      "setting dataset time for 4 items:  0.010399341583251953\n"
     ]
    },
    {
     "data": {
      "text/plain": [
       "Dataset\n",
       "\tsize=4\n",
       "\tsource_path=./tests/assets/camvid_dataset\n",
       "\tmedia_type=<class 'datumaro.components.media.Image'>\n",
       "\tannotated_items_count=4\n",
       "\tannotations_count=10\n",
       "subsets\n",
       "\ttest: # of items=2, # of annotated items=2, # of annotations=6, annotation types=['mask']\n",
       "\ttrain: # of items=1, # of annotated items=1, # of annotations=2, annotation types=['mask']\n",
       "\tval: # of items=1, # of annotated items=1, # of annotations=2, annotation types=['mask']\n",
       "infos\n",
       "\tcategories\n",
       "\tlabel: ['Void', 'Animal', 'Archway', 'Bicyclist', 'Bridge', 'Building', 'Car', 'CartLuggagePram', 'Child', 'Column_Pole', 'Fence', 'LaneMkgsDriv', 'LaneMkgsNonDriv', 'Misc_Text', 'MotorcycycleScooter', 'OtherMoving', 'ParkingBlock', 'Pedestrian', 'Road', 'RoadShoulder', 'Sidewalk', 'SignSymbol', 'Sky', 'SUVPickupTruck', 'TrafficCone', 'TrafficLight', 'Train', 'Tree', 'Truck_Bus', 'Tunnel', 'VegetationMisc', 'Wall']\n",
       "\tmask: []"
      ]
     },
     "execution_count": 39,
     "metadata": {},
     "output_type": "execute_result"
    }
   ],
   "source": [
    "start_time = time.time()\n",
    "dataset = dm.Dataset.import_from('./tests/assets/camvid_dataset')\n",
    "print(f'setting dataset time for {len(dataset)} items: ', time.time()-start_time)\n",
    "dataset"
   ]
  },
  {
   "cell_type": "markdown",
   "id": "bdc6058f",
   "metadata": {},
   "source": [
    "### 44. camvid_32"
   ]
  },
  {
   "cell_type": "markdown",
   "id": "672ea79d",
   "metadata": {},
   "source": [
    "### 45. image_retrieval"
   ]
  },
  {
   "cell_type": "markdown",
   "id": "25530d6e",
   "metadata": {},
   "source": [
    "### 46. cvat_object_detection\n",
    "### 47. cvat_attribtues_recognition\n",
    "### 48. cvat_age_gender\n",
    "### 49. cvat_facial_landmarks\n",
    "### 50. cvat_pose_estimation\n",
    "### 51. cvat_text_recognition\n",
    "### 52. cvat_binary_multilable_attributes_recognition\n",
    "### 53. cvat_person_detection_action_recognition"
   ]
  },
  {
   "cell_type": "code",
   "execution_count": 40,
   "id": "06d5b672",
   "metadata": {},
   "outputs": [
    {
     "name": "stdout",
     "output_type": "stream",
     "text": [
      "setting dataset time for 2 items:  0.007761240005493164\n",
      "DatasetItem(id='img0', subset='train', media=<datumaro.components.media.Image object at 0x7f9166844f90>, annotations=[Bbox(id=0, attributes={'a1': True, 'a2': 'v3', 'a3': '0003', 'a4': 2.4, 'occluded': True}, group=0, points=[0.0, 2.0, 4.0, 4.0], label=0, z_order=1), PolyLine(id=0, attributes={'occluded': False}, group=0, points=[1.0, 2.0, 3.0, 4.0, 5.0, 6.0, 7.0, 8.0], label=None, z_order=0)], attributes={'frame': 0}, hash_key=[])\n",
      "DatasetItem(id='img1', subset='train', media=<datumaro.components.media.Image object at 0x7f9166898fd0>, annotations=[Polygon(id=0, attributes={'occluded': False}, group=0, points=[1.0, 2.0, 3.0, 4.0, 6.0, 5.0], label=None, z_order=1), Points(id=0, attributes={'occluded': False}, group=0, points=[1.0, 2.0, 3.0, 4.0, 5.0, 6.0], label=1, z_order=2, visibility=[<Visibility.visible: 2>, <Visibility.visible: 2>, <Visibility.visible: 2>])], attributes={'frame': 1}, hash_key=[])\n"
     ]
    }
   ],
   "source": [
    "start_time = time.time()\n",
    "dataset = dm.Dataset.import_from('./tests/assets/cvat_dataset/for_images')\n",
    "print(f'setting dataset time for {len(dataset)} items: ', time.time()-start_time)\n",
    "dataset\n",
    "for i, item in enumerate(dataset):\n",
    "    print(item)"
   ]
  },
  {
   "cell_type": "markdown",
   "id": "65f2506a",
   "metadata": {},
   "source": [
    "### 54. lpr_txt"
   ]
  },
  {
   "cell_type": "markdown",
   "id": "1dace9b4",
   "metadata": {},
   "source": [
    "### 55. squad_emb\n",
    "### 56. squad\n",
    "### 57. squad_bidaf"
   ]
  },
  {
   "cell_type": "code",
   "execution_count": 41,
   "id": "9b9651ee",
   "metadata": {},
   "outputs": [
    {
     "ename": "MultipleFormatsMatchError",
     "evalue": "Failed to detect dataset format automatically: data matches more than one format: celeba, image_dir, imagenet, align_celeba",
     "output_type": "error",
     "traceback": [
      "\u001b[0;31m---------------------------------------------------------------------------\u001b[0m",
      "\u001b[0;31mMultipleFormatsMatchError\u001b[0m                 Traceback (most recent call last)",
      "\u001b[0;32m/tmp/ipykernel_13025/925668599.py\u001b[0m in \u001b[0;36m<module>\u001b[0;34m\u001b[0m\n\u001b[1;32m      1\u001b[0m \u001b[0mstart_time\u001b[0m \u001b[0;34m=\u001b[0m \u001b[0mtime\u001b[0m\u001b[0;34m.\u001b[0m\u001b[0mtime\u001b[0m\u001b[0;34m(\u001b[0m\u001b[0;34m)\u001b[0m\u001b[0;34m\u001b[0m\u001b[0;34m\u001b[0m\u001b[0m\n\u001b[0;32m----> 2\u001b[0;31m \u001b[0mdataset\u001b[0m \u001b[0;34m=\u001b[0m \u001b[0mdm\u001b[0m\u001b[0;34m.\u001b[0m\u001b[0mDataset\u001b[0m\u001b[0;34m.\u001b[0m\u001b[0mimport_from\u001b[0m\u001b[0;34m(\u001b[0m\u001b[0;34m\"/media/hdd2/datumaro/SQuAD\"\u001b[0m\u001b[0;34m)\u001b[0m\u001b[0;34m\u001b[0m\u001b[0;34m\u001b[0m\u001b[0m\n\u001b[0m\u001b[1;32m      3\u001b[0m \u001b[0mprint\u001b[0m\u001b[0;34m(\u001b[0m\u001b[0;34mf'setting dataset time for {len(dataset)} items: '\u001b[0m\u001b[0;34m,\u001b[0m \u001b[0mtime\u001b[0m\u001b[0;34m.\u001b[0m\u001b[0mtime\u001b[0m\u001b[0;34m(\u001b[0m\u001b[0;34m)\u001b[0m\u001b[0;34m-\u001b[0m\u001b[0mstart_time\u001b[0m\u001b[0;34m)\u001b[0m\u001b[0;34m\u001b[0m\u001b[0;34m\u001b[0m\u001b[0m\n",
      "\u001b[0;32m~/workspace/datumaro_sa/datumaro/components/dataset.py\u001b[0m in \u001b[0;36mimport_from\u001b[0;34m(cls, path, format, env, progress_reporter, error_policy, save_hash, **kwargs)\u001b[0m\n\u001b[1;32m   1329\u001b[0m \u001b[0;34m\u001b[0m\u001b[0m\n\u001b[1;32m   1330\u001b[0m         \u001b[0;32mif\u001b[0m \u001b[0;32mnot\u001b[0m \u001b[0mformat\u001b[0m\u001b[0;34m:\u001b[0m\u001b[0;34m\u001b[0m\u001b[0;34m\u001b[0m\u001b[0m\n\u001b[0;32m-> 1331\u001b[0;31m             \u001b[0mformat\u001b[0m \u001b[0;34m=\u001b[0m \u001b[0mcls\u001b[0m\u001b[0;34m.\u001b[0m\u001b[0mdetect\u001b[0m\u001b[0;34m(\u001b[0m\u001b[0mpath\u001b[0m\u001b[0;34m,\u001b[0m \u001b[0menv\u001b[0m\u001b[0;34m=\u001b[0m\u001b[0menv\u001b[0m\u001b[0;34m)\u001b[0m\u001b[0;34m\u001b[0m\u001b[0;34m\u001b[0m\u001b[0m\n\u001b[0m\u001b[1;32m   1332\u001b[0m \u001b[0;34m\u001b[0m\u001b[0m\n\u001b[1;32m   1333\u001b[0m         \u001b[0;31m# TODO: remove importers, put this logic into extractors\u001b[0m\u001b[0;34m\u001b[0m\u001b[0;34m\u001b[0m\u001b[0;34m\u001b[0m\u001b[0m\n",
      "\u001b[0;32m~/workspace/datumaro_sa/datumaro/components/dataset.py\u001b[0m in \u001b[0;36mdetect\u001b[0;34m(path, env, depth)\u001b[0m\n\u001b[1;32m   1428\u001b[0m             \u001b[0;32mraise\u001b[0m \u001b[0mNoMatchingFormatsError\u001b[0m\u001b[0;34m(\u001b[0m\u001b[0;34m)\u001b[0m\u001b[0;34m\u001b[0m\u001b[0;34m\u001b[0m\u001b[0m\n\u001b[1;32m   1429\u001b[0m         \u001b[0;32melif\u001b[0m \u001b[0;36m1\u001b[0m \u001b[0;34m<\u001b[0m \u001b[0mlen\u001b[0m\u001b[0;34m(\u001b[0m\u001b[0mmatches\u001b[0m\u001b[0;34m)\u001b[0m\u001b[0;34m:\u001b[0m\u001b[0;34m\u001b[0m\u001b[0;34m\u001b[0m\u001b[0m\n\u001b[0;32m-> 1430\u001b[0;31m             \u001b[0;32mraise\u001b[0m \u001b[0mMultipleFormatsMatchError\u001b[0m\u001b[0;34m(\u001b[0m\u001b[0mmatches\u001b[0m\u001b[0;34m)\u001b[0m\u001b[0;34m\u001b[0m\u001b[0;34m\u001b[0m\u001b[0m\n\u001b[0m\u001b[1;32m   1431\u001b[0m         \u001b[0;32melse\u001b[0m\u001b[0;34m:\u001b[0m\u001b[0;34m\u001b[0m\u001b[0;34m\u001b[0m\u001b[0m\n\u001b[1;32m   1432\u001b[0m             \u001b[0;32mreturn\u001b[0m \u001b[0mmatches\u001b[0m\u001b[0;34m[\u001b[0m\u001b[0;36m0\u001b[0m\u001b[0;34m]\u001b[0m\u001b[0;34m\u001b[0m\u001b[0;34m\u001b[0m\u001b[0m\n",
      "\u001b[0;31mMultipleFormatsMatchError\u001b[0m: Failed to detect dataset format automatically: data matches more than one format: celeba, image_dir, imagenet, align_celeba"
     ]
    }
   ],
   "source": [
    "start_time = time.time()\n",
    "dataset = dm.Dataset.import_from(\"/media/hdd2/datumaro/SQuAD\")\n",
    "print(f'setting dataset time for {len(dataset)} items: ', time.time()-start_time)"
   ]
  },
  {
   "cell_type": "markdown",
   "id": "b29a45e7",
   "metadata": {},
   "source": [
    "### 58. xnli"
   ]
  },
  {
   "cell_type": "markdown",
   "id": "b4fe9df6",
   "metadata": {},
   "source": [
    "### 59. mnli"
   ]
  },
  {
   "cell_type": "code",
   "execution_count": 42,
   "id": "707ab76c",
   "metadata": {},
   "outputs": [
    {
     "ename": "MultipleFormatsMatchError",
     "evalue": "Failed to detect dataset format automatically: data matches more than one format: image_dir, align_celeba, celeba, imagenet, cifar",
     "output_type": "error",
     "traceback": [
      "\u001b[0;31m---------------------------------------------------------------------------\u001b[0m",
      "\u001b[0;31mMultipleFormatsMatchError\u001b[0m                 Traceback (most recent call last)",
      "\u001b[0;32m/tmp/ipykernel_13025/572757559.py\u001b[0m in \u001b[0;36m<module>\u001b[0;34m\u001b[0m\n\u001b[1;32m      1\u001b[0m \u001b[0mstart_time\u001b[0m \u001b[0;34m=\u001b[0m \u001b[0mtime\u001b[0m\u001b[0;34m.\u001b[0m\u001b[0mtime\u001b[0m\u001b[0;34m(\u001b[0m\u001b[0;34m)\u001b[0m\u001b[0;34m\u001b[0m\u001b[0;34m\u001b[0m\u001b[0m\n\u001b[0;32m----> 2\u001b[0;31m \u001b[0mdataset\u001b[0m \u001b[0;34m=\u001b[0m \u001b[0mdm\u001b[0m\u001b[0;34m.\u001b[0m\u001b[0mDataset\u001b[0m\u001b[0;34m.\u001b[0m\u001b[0mimport_from\u001b[0m\u001b[0;34m(\u001b[0m\u001b[0;34m\"//media/hdd2/datumaro/MultiNLI/multinli_1.0\"\u001b[0m\u001b[0;34m)\u001b[0m\u001b[0;34m\u001b[0m\u001b[0;34m\u001b[0m\u001b[0m\n\u001b[0m\u001b[1;32m      3\u001b[0m \u001b[0mprint\u001b[0m\u001b[0;34m(\u001b[0m\u001b[0;34mf'setting dataset time for {len(dataset)} items: '\u001b[0m\u001b[0;34m,\u001b[0m \u001b[0mtime\u001b[0m\u001b[0;34m.\u001b[0m\u001b[0mtime\u001b[0m\u001b[0;34m(\u001b[0m\u001b[0;34m)\u001b[0m\u001b[0;34m-\u001b[0m\u001b[0mstart_time\u001b[0m\u001b[0;34m)\u001b[0m\u001b[0;34m\u001b[0m\u001b[0;34m\u001b[0m\u001b[0m\n",
      "\u001b[0;32m~/workspace/datumaro_sa/datumaro/components/dataset.py\u001b[0m in \u001b[0;36mimport_from\u001b[0;34m(cls, path, format, env, progress_reporter, error_policy, save_hash, **kwargs)\u001b[0m\n\u001b[1;32m   1329\u001b[0m \u001b[0;34m\u001b[0m\u001b[0m\n\u001b[1;32m   1330\u001b[0m         \u001b[0;32mif\u001b[0m \u001b[0;32mnot\u001b[0m \u001b[0mformat\u001b[0m\u001b[0;34m:\u001b[0m\u001b[0;34m\u001b[0m\u001b[0;34m\u001b[0m\u001b[0m\n\u001b[0;32m-> 1331\u001b[0;31m             \u001b[0mformat\u001b[0m \u001b[0;34m=\u001b[0m \u001b[0mcls\u001b[0m\u001b[0;34m.\u001b[0m\u001b[0mdetect\u001b[0m\u001b[0;34m(\u001b[0m\u001b[0mpath\u001b[0m\u001b[0;34m,\u001b[0m \u001b[0menv\u001b[0m\u001b[0;34m=\u001b[0m\u001b[0menv\u001b[0m\u001b[0;34m)\u001b[0m\u001b[0;34m\u001b[0m\u001b[0;34m\u001b[0m\u001b[0m\n\u001b[0m\u001b[1;32m   1332\u001b[0m \u001b[0;34m\u001b[0m\u001b[0m\n\u001b[1;32m   1333\u001b[0m         \u001b[0;31m# TODO: remove importers, put this logic into extractors\u001b[0m\u001b[0;34m\u001b[0m\u001b[0;34m\u001b[0m\u001b[0;34m\u001b[0m\u001b[0m\n",
      "\u001b[0;32m~/workspace/datumaro_sa/datumaro/components/dataset.py\u001b[0m in \u001b[0;36mdetect\u001b[0;34m(path, env, depth)\u001b[0m\n\u001b[1;32m   1428\u001b[0m             \u001b[0;32mraise\u001b[0m \u001b[0mNoMatchingFormatsError\u001b[0m\u001b[0;34m(\u001b[0m\u001b[0;34m)\u001b[0m\u001b[0;34m\u001b[0m\u001b[0;34m\u001b[0m\u001b[0m\n\u001b[1;32m   1429\u001b[0m         \u001b[0;32melif\u001b[0m \u001b[0;36m1\u001b[0m \u001b[0;34m<\u001b[0m \u001b[0mlen\u001b[0m\u001b[0;34m(\u001b[0m\u001b[0mmatches\u001b[0m\u001b[0;34m)\u001b[0m\u001b[0;34m:\u001b[0m\u001b[0;34m\u001b[0m\u001b[0;34m\u001b[0m\u001b[0m\n\u001b[0;32m-> 1430\u001b[0;31m             \u001b[0;32mraise\u001b[0m \u001b[0mMultipleFormatsMatchError\u001b[0m\u001b[0;34m(\u001b[0m\u001b[0mmatches\u001b[0m\u001b[0;34m)\u001b[0m\u001b[0;34m\u001b[0m\u001b[0;34m\u001b[0m\u001b[0m\n\u001b[0m\u001b[1;32m   1431\u001b[0m         \u001b[0;32melse\u001b[0m\u001b[0;34m:\u001b[0m\u001b[0;34m\u001b[0m\u001b[0;34m\u001b[0m\u001b[0m\n\u001b[1;32m   1432\u001b[0m             \u001b[0;32mreturn\u001b[0m \u001b[0mmatches\u001b[0m\u001b[0;34m[\u001b[0m\u001b[0;36m0\u001b[0m\u001b[0;34m]\u001b[0m\u001b[0;34m\u001b[0m\u001b[0;34m\u001b[0m\u001b[0m\n",
      "\u001b[0;31mMultipleFormatsMatchError\u001b[0m: Failed to detect dataset format automatically: data matches more than one format: image_dir, align_celeba, celeba, imagenet, cifar"
     ]
    }
   ],
   "source": [
    "start_time = time.time()\n",
    "dataset = dm.Dataset.import_from(\"//media/hdd2/datumaro/MultiNLI/multinli_1.0\")\n",
    "print(f'setting dataset time for {len(dataset)} items: ', time.time()-start_time)"
   ]
  },
  {
   "cell_type": "markdown",
   "id": "9fbadc8f",
   "metadata": {},
   "source": [
    "### 60. mrpc\n",
    "### 61. cola\n",
    "### 62. wnli\n",
    "### 63. qnli\n",
    "### 64. qqp\n",
    "### 65. sst-2\n",
    "### 66. rte\n",
    "### 67. imdb\n",
    "### 68. custom_text_classification"
   ]
  },
  {
   "cell_type": "markdown",
   "id": "41339220",
   "metadata": {},
   "source": [
    "### 69. sentence_similarity "
   ]
  },
  {
   "cell_type": "markdown",
   "id": "cdbeca8a",
   "metadata": {},
   "source": [
    "### 70. bert_xnli_tf_record "
   ]
  },
  {
   "cell_type": "markdown",
   "id": "f316c75d",
   "metadata": {},
   "source": [
    "### 71. cmu_panoptic_keypoints "
   ]
  },
  {
   "cell_type": "markdown",
   "id": "e58f7b97",
   "metadata": {},
   "source": [
    "### 72. clip_action_recognition "
   ]
  },
  {
   "cell_type": "markdown",
   "id": "0ad1cfeb",
   "metadata": {},
   "source": [
    "### 73. continuous_clip_action_recognition "
   ]
  },
  {
   "cell_type": "markdown",
   "id": "a57a37e0",
   "metadata": {},
   "source": [
    "### 74. redweb "
   ]
  },
  {
   "cell_type": "code",
   "execution_count": 46,
   "id": "3cd46490",
   "metadata": {},
   "outputs": [
    {
     "name": "stderr",
     "output_type": "stream",
     "text": [
      "7200it [00:00, 54322.74it/s]"
     ]
    },
    {
     "name": "stdout",
     "output_type": "stream",
     "text": [
      "setting dataset time for 7200 items:  0.14802026748657227\n"
     ]
    },
    {
     "name": "stderr",
     "output_type": "stream",
     "text": [
      "\n"
     ]
    },
    {
     "data": {
      "text/plain": [
       "Dataset\n",
       "\tsize=7200\n",
       "\tsource_path=/media/hdd2/datumaro/ReDWeb_V1\n",
       "\tmedia_type=<class 'datumaro.components.media.Image'>\n",
       "\tannotated_items_count=7200\n",
       "\tannotations_count=7200\n",
       "subsets\n",
       "\tdefault: # of items=7200, # of annotated items=7200, # of annotations=7200, annotation types=['label']\n",
       "infos\n",
       "\tcategories\n",
       "\tlabel: ['Imgs', 'RDs']"
      ]
     },
     "execution_count": 46,
     "metadata": {},
     "output_type": "execute_result"
    }
   ],
   "source": [
    "start_time = time.time()\n",
    "dataset = dm.Dataset.import_from(\"/media/hdd2/datumaro/ReDWeb_V1\", format=\"imagenet\")\n",
    "print(f'setting dataset time for {len(dataset)} items: ', time.time()-start_time)\n",
    "dataset"
   ]
  },
  {
   "cell_type": "markdown",
   "id": "183d1b12",
   "metadata": {},
   "source": [
    "### 75. nyu_depth_v2"
   ]
  },
  {
   "cell_type": "code",
   "execution_count": 47,
   "id": "f44fb72d",
   "metadata": {},
   "outputs": [
    {
     "name": "stdout",
     "output_type": "stream",
     "text": [
      "setting dataset time for 2 items:  0.003786325454711914\n",
      "DatasetItem(id='2', subset='default', media=<datumaro.components.media.Image object at 0x7f91668b4950>, annotations=[DepthAnnotation(id=0, attributes={}, group=0, image=<datumaro.components.media.Image object at 0x7f91acf994d0>)], attributes={}, hash_key=[])\n",
      "DatasetItem(id='1', subset='default', media=<datumaro.components.media.Image object at 0x7f91668b43d0>, annotations=[DepthAnnotation(id=0, attributes={}, group=0, image=<datumaro.components.media.Image object at 0x7f9166871910>)], attributes={}, hash_key=[])\n"
     ]
    }
   ],
   "source": [
    "start_time = time.time()\n",
    "dataset = dm.Dataset.import_from('./tests/assets/nyu_depth_v2_dataset', 'nyu_depth_v2')\n",
    "print(f'setting dataset time for {len(dataset)} items: ', time.time()-start_time)\n",
    "dataset\n",
    "for i, item in enumerate(dataset):\n",
    "    print(item)"
   ]
  },
  {
   "cell_type": "markdown",
   "id": "095ef333",
   "metadata": {},
   "source": [
    "### 76. inpainting"
   ]
  },
  {
   "cell_type": "markdown",
   "id": "85ed1869",
   "metadata": {},
   "source": [
    "### 77. aflw2000_3d"
   ]
  },
  {
   "cell_type": "markdown",
   "id": "d68b7e3d",
   "metadata": {},
   "source": [
    "### 78. style_transfer"
   ]
  },
  {
   "cell_type": "markdown",
   "id": "77f542cc",
   "metadata": {},
   "source": [
    "### 79. ade20k"
   ]
  },
  {
   "cell_type": "code",
   "execution_count": 50,
   "id": "6b929405",
   "metadata": {},
   "outputs": [
    {
     "name": "stdout",
     "output_type": "stream",
     "text": [
      "setting dataset time for 2 items:  0.0031576156616210938\n",
      "DatasetItem(id='street/1', subset='training', media=<datumaro.components.media.Image object at 0x7f91652a3790>, annotations=[Mask(id=1, attributes={}, group=1, _image=functools.partial(<bound method CompiledMask.extract of <datumaro.components.annotation.CompiledMask object at 0x7f916529f750>>, 1), label=0, z_order=0), Mask(id=2, attributes={'walkin': True}, group=2, _image=functools.partial(<bound method CompiledMask.extract of <datumaro.components.annotation.CompiledMask object at 0x7f916529f750>>, 2), label=1, z_order=0), Mask(id=1, attributes={}, group=1, _image=functools.partial(<bound method CompiledMask.extract of <datumaro.components.annotation.CompiledMask object at 0x7f91652a3dd0>>, 1), label=2, z_order=1)], attributes={}, hash_key=[])\n",
      "DatasetItem(id='2', subset='validation', media=<datumaro.components.media.Image object at 0x7f91652a3e50>, annotations=[Mask(id=1, attributes={}, group=1, _image=functools.partial(<bound method CompiledMask.extract of <datumaro.components.annotation.CompiledMask object at 0x7f91652a3b90>>, 1), label=0, z_order=0), Mask(id=2, attributes={}, group=2, _image=functools.partial(<bound method CompiledMask.extract of <datumaro.components.annotation.CompiledMask object at 0x7f91652a3b90>>, 2), label=1, z_order=0), Mask(id=1, attributes={}, group=1, _image=functools.partial(<bound method CompiledMask.extract of <datumaro.components.annotation.CompiledMask object at 0x7f91652a3d10>>, 1), label=2, z_order=1), Mask(id=1, attributes={}, group=1, _image=functools.partial(<bound method CompiledMask.extract of <datumaro.components.annotation.CompiledMask object at 0x7f91652a3ed0>>, 1), label=3, z_order=2)], attributes={}, hash_key=[])\n"
     ]
    }
   ],
   "source": [
    "start_time = time.time()\n",
    "dataset = dm.Dataset.import_from('./tests/assets/ade20k2017_dataset/dataset', 'ade20k2017')\n",
    "print(f'setting dataset time for {len(dataset)} items: ', time.time()-start_time)\n",
    "dataset\n",
    "for i, item in enumerate(dataset):\n",
    "    print(item)"
   ]
  },
  {
   "cell_type": "code",
   "execution_count": 51,
   "id": "ce1aaa5a",
   "metadata": {},
   "outputs": [
    {
     "name": "stdout",
     "output_type": "stream",
     "text": [
      "setting dataset time for 2 items:  0.0033032894134521484\n",
      "DatasetItem(id='street/1', subset='training', media=<datumaro.components.media.Image object at 0x7f91652aac10>, annotations=[Mask(id=1831, attributes={}, group=1831, _image=functools.partial(<bound method CompiledMask.extract of <datumaro.components.annotation.CompiledMask object at 0x7f91652aac50>>, 1831), label=1, z_order=0), Mask(id=401, attributes={}, group=401, _image=functools.partial(<bound method CompiledMask.extract of <datumaro.components.annotation.CompiledMask object at 0x7f91652aac50>>, 401), label=0, z_order=0), Mask(id=774, attributes={}, group=774, _image=functools.partial(<bound method CompiledMask.extract of <datumaro.components.annotation.CompiledMask object at 0x7f91652aacd0>>, 774), label=2, z_order=1), Mask(id=0, attributes={}, group=0, _image=functools.partial(<bound method CompiledMask.extract of <datumaro.components.annotation.CompiledMask object at 0x7f91652aa650>>, 1), label=0, z_order=0), Mask(id=1, attributes={'walkin': True}, group=1, _image=functools.partial(<bound method CompiledMask.extract of <datumaro.components.annotation.CompiledMask object at 0x7f91652aa590>>, 1), label=1, z_order=0), Polygon(id=1, attributes={'walkin': True}, group=1, points=[1, 0, 1, 1, 1, 2, 1, 3, 1, 4], label=1, z_order=0), Mask(id=2, attributes={}, group=2, _image=functools.partial(<bound method CompiledMask.extract of <datumaro.components.annotation.CompiledMask object at 0x7f91652aaa10>>, 1), label=2, z_order=1)], attributes={}, hash_key=[])\n",
      "DatasetItem(id='2', subset='validation', media=<datumaro.components.media.Image object at 0x7f91652aa4d0>, annotations=[Mask(id=1831, attributes={}, group=1831, _image=functools.partial(<bound method CompiledMask.extract of <datumaro.components.annotation.CompiledMask object at 0x7f91652aaf50>>, 1831), label=1, z_order=0), Mask(id=401, attributes={}, group=401, _image=functools.partial(<bound method CompiledMask.extract of <datumaro.components.annotation.CompiledMask object at 0x7f91652aaf50>>, 401), label=0, z_order=0), Mask(id=774, attributes={}, group=774, _image=functools.partial(<bound method CompiledMask.extract of <datumaro.components.annotation.CompiledMask object at 0x7f91652aa390>>, 774), label=2, z_order=1), Mask(id=2122, attributes={}, group=2122, _image=functools.partial(<bound method CompiledMask.extract of <datumaro.components.annotation.CompiledMask object at 0x7f91652aafd0>>, 2122), label=3, z_order=2), Mask(id=0, attributes={}, group=0, _image=functools.partial(<bound method CompiledMask.extract of <datumaro.components.annotation.CompiledMask object at 0x7f91652aa8d0>>, 1), label=0, z_order=0), Mask(id=1, attributes={'walkin': True}, group=1, _image=functools.partial(<bound method CompiledMask.extract of <datumaro.components.annotation.CompiledMask object at 0x7f91652aaf10>>, 1), label=1, z_order=0), Mask(id=2, attributes={}, group=2, _image=functools.partial(<bound method CompiledMask.extract of <datumaro.components.annotation.CompiledMask object at 0x7f91652aaed0>>, 1), label=2, z_order=1), Mask(id=3, attributes={}, group=3, _image=functools.partial(<bound method CompiledMask.extract of <datumaro.components.annotation.CompiledMask object at 0x7f91652ac290>>, 1), label=3, z_order=2)], attributes={}, hash_key=[])\n"
     ]
    }
   ],
   "source": [
    "start_time = time.time()\n",
    "dataset = dm.Dataset.import_from('./tests/assets/ade20k2020_dataset/dataset', 'ade20k2020')\n",
    "print(f'setting dataset time for {len(dataset)} items: ', time.time()-start_time)\n",
    "dataset\n",
    "for i, item in enumerate(dataset):\n",
    "    print(item)"
   ]
  },
  {
   "cell_type": "markdown",
   "id": "f9b0f4a7",
   "metadata": {},
   "source": [
    "### 80. criteo_kaggle_dac"
   ]
  },
  {
   "cell_type": "markdown",
   "id": "0c754abf",
   "metadata": {},
   "source": [
    "### 81. features_regression "
   ]
  },
  {
   "cell_type": "markdown",
   "id": "62e14e2c",
   "metadata": {},
   "source": [
    "### 82. multi_feature_regression"
   ]
  },
  {
   "cell_type": "markdown",
   "id": "c03fc500",
   "metadata": {},
   "source": [
    "### 83. librispeech"
   ]
  },
  {
   "cell_type": "markdown",
   "id": "b6b9eadb",
   "metadata": {},
   "source": [
    "### 84. criteo"
   ]
  },
  {
   "cell_type": "markdown",
   "id": "5a8814b0",
   "metadata": {},
   "source": [
    "### 85. im2latex_formula_recognition"
   ]
  },
  {
   "cell_type": "code",
   "execution_count": 55,
   "id": "d194c7a6",
   "metadata": {},
   "outputs": [
    {
     "ename": "MultipleFormatsMatchError",
     "evalue": "Failed to detect dataset format automatically: data matches more than one format: celeba, image_dir, imagenet, align_celeba",
     "output_type": "error",
     "traceback": [
      "\u001b[0;31m---------------------------------------------------------------------------\u001b[0m",
      "\u001b[0;31mMultipleFormatsMatchError\u001b[0m                 Traceback (most recent call last)",
      "\u001b[0;32m/tmp/ipykernel_13025/3054219038.py\u001b[0m in \u001b[0;36m<module>\u001b[0;34m\u001b[0m\n\u001b[1;32m      1\u001b[0m \u001b[0mstart_time\u001b[0m \u001b[0;34m=\u001b[0m \u001b[0mtime\u001b[0m\u001b[0;34m.\u001b[0m\u001b[0mtime\u001b[0m\u001b[0;34m(\u001b[0m\u001b[0;34m)\u001b[0m\u001b[0;34m\u001b[0m\u001b[0;34m\u001b[0m\u001b[0m\n\u001b[0;32m----> 2\u001b[0;31m \u001b[0mdataset\u001b[0m \u001b[0;34m=\u001b[0m \u001b[0mdm\u001b[0m\u001b[0;34m.\u001b[0m\u001b[0mDataset\u001b[0m\u001b[0;34m.\u001b[0m\u001b[0mimport_from\u001b[0m\u001b[0;34m(\u001b[0m\u001b[0;34m\"/media/hdd2/datumaro/im2latex/parens\"\u001b[0m\u001b[0;34m)\u001b[0m\u001b[0;34m\u001b[0m\u001b[0;34m\u001b[0m\u001b[0m\n\u001b[0m\u001b[1;32m      3\u001b[0m \u001b[0mprint\u001b[0m\u001b[0;34m(\u001b[0m\u001b[0;34mf'setting dataset time for {len(dataset)} items: '\u001b[0m\u001b[0;34m,\u001b[0m \u001b[0mtime\u001b[0m\u001b[0;34m.\u001b[0m\u001b[0mtime\u001b[0m\u001b[0;34m(\u001b[0m\u001b[0;34m)\u001b[0m\u001b[0;34m-\u001b[0m\u001b[0mstart_time\u001b[0m\u001b[0;34m)\u001b[0m\u001b[0;34m\u001b[0m\u001b[0;34m\u001b[0m\u001b[0m\n\u001b[1;32m      4\u001b[0m \u001b[0mdataset\u001b[0m\u001b[0;34m\u001b[0m\u001b[0;34m\u001b[0m\u001b[0m\n",
      "\u001b[0;32m~/workspace/datumaro_sa/datumaro/components/dataset.py\u001b[0m in \u001b[0;36mimport_from\u001b[0;34m(cls, path, format, env, progress_reporter, error_policy, save_hash, **kwargs)\u001b[0m\n\u001b[1;32m   1329\u001b[0m \u001b[0;34m\u001b[0m\u001b[0m\n\u001b[1;32m   1330\u001b[0m         \u001b[0;32mif\u001b[0m \u001b[0;32mnot\u001b[0m \u001b[0mformat\u001b[0m\u001b[0;34m:\u001b[0m\u001b[0;34m\u001b[0m\u001b[0;34m\u001b[0m\u001b[0m\n\u001b[0;32m-> 1331\u001b[0;31m             \u001b[0mformat\u001b[0m \u001b[0;34m=\u001b[0m \u001b[0mcls\u001b[0m\u001b[0;34m.\u001b[0m\u001b[0mdetect\u001b[0m\u001b[0;34m(\u001b[0m\u001b[0mpath\u001b[0m\u001b[0;34m,\u001b[0m \u001b[0menv\u001b[0m\u001b[0;34m=\u001b[0m\u001b[0menv\u001b[0m\u001b[0;34m)\u001b[0m\u001b[0;34m\u001b[0m\u001b[0;34m\u001b[0m\u001b[0m\n\u001b[0m\u001b[1;32m   1332\u001b[0m \u001b[0;34m\u001b[0m\u001b[0m\n\u001b[1;32m   1333\u001b[0m         \u001b[0;31m# TODO: remove importers, put this logic into extractors\u001b[0m\u001b[0;34m\u001b[0m\u001b[0;34m\u001b[0m\u001b[0;34m\u001b[0m\u001b[0m\n",
      "\u001b[0;32m~/workspace/datumaro_sa/datumaro/components/dataset.py\u001b[0m in \u001b[0;36mdetect\u001b[0;34m(path, env, depth)\u001b[0m\n\u001b[1;32m   1428\u001b[0m             \u001b[0;32mraise\u001b[0m \u001b[0mNoMatchingFormatsError\u001b[0m\u001b[0;34m(\u001b[0m\u001b[0;34m)\u001b[0m\u001b[0;34m\u001b[0m\u001b[0;34m\u001b[0m\u001b[0m\n\u001b[1;32m   1429\u001b[0m         \u001b[0;32melif\u001b[0m \u001b[0;36m1\u001b[0m \u001b[0;34m<\u001b[0m \u001b[0mlen\u001b[0m\u001b[0;34m(\u001b[0m\u001b[0mmatches\u001b[0m\u001b[0;34m)\u001b[0m\u001b[0;34m:\u001b[0m\u001b[0;34m\u001b[0m\u001b[0;34m\u001b[0m\u001b[0m\n\u001b[0;32m-> 1430\u001b[0;31m             \u001b[0;32mraise\u001b[0m \u001b[0mMultipleFormatsMatchError\u001b[0m\u001b[0;34m(\u001b[0m\u001b[0mmatches\u001b[0m\u001b[0;34m)\u001b[0m\u001b[0;34m\u001b[0m\u001b[0;34m\u001b[0m\u001b[0m\n\u001b[0m\u001b[1;32m   1431\u001b[0m         \u001b[0;32melse\u001b[0m\u001b[0;34m:\u001b[0m\u001b[0;34m\u001b[0m\u001b[0;34m\u001b[0m\u001b[0m\n\u001b[1;32m   1432\u001b[0m             \u001b[0;32mreturn\u001b[0m \u001b[0mmatches\u001b[0m\u001b[0;34m[\u001b[0m\u001b[0;36m0\u001b[0m\u001b[0;34m]\u001b[0m\u001b[0;34m\u001b[0m\u001b[0;34m\u001b[0m\u001b[0m\n",
      "\u001b[0;31mMultipleFormatsMatchError\u001b[0m: Failed to detect dataset format automatically: data matches more than one format: celeba, image_dir, imagenet, align_celeba"
     ]
    }
   ],
   "source": [
    "start_time = time.time()\n",
    "dataset = dm.Dataset.import_from(\"/media/hdd2/datumaro/im2latex/parens\")\n",
    "print(f'setting dataset time for {len(dataset)} items: ', time.time()-start_time)\n",
    "dataset"
   ]
  },
  {
   "cell_type": "markdown",
   "id": "d14f9e23",
   "metadata": {},
   "source": [
    "### 86. dna_sequence"
   ]
  },
  {
   "cell_type": "markdown",
   "id": "08441b34",
   "metadata": {},
   "source": [
    "### 87. place_recognition"
   ]
  },
  {
   "cell_type": "markdown",
   "id": "4445d9ff",
   "metadata": {},
   "source": [
    "### 88. mpii"
   ]
  },
  {
   "cell_type": "code",
   "execution_count": 56,
   "id": "d49a956d",
   "metadata": {},
   "outputs": [
    {
     "name": "stdout",
     "output_type": "stream",
     "text": [
      "setting dataset time for 3 items:  0.004614591598510742\n",
      "DatasetItem(id='000000001', subset='default', media=<datumaro.components.media.Image object at 0x7f91652456d0>, annotations=[Points(id=0, attributes={'scale': 3.021, 'center': [594.0, 257.0]}, group=1, points=[620.0, 394.0, 616.0, 269.0, 573.0, 185.0, 647.0, 188.0, 661.0, 221.0, 656.0, 231.0, 610.0, 187.0, 647.0, 176.0, 637.02, 189.82, 695.98, 108.18, 606.0, 217.0, 553.0, 161.0, 601.0, 167.0, 692.0, 185.0, 693.0, 240.0, 688.0, 313.0], label=0, z_order=0, visibility=[<Visibility.hidden: 1>, <Visibility.hidden: 1>, <Visibility.hidden: 1>, <Visibility.absent: 0>, <Visibility.hidden: 1>, <Visibility.hidden: 1>, <Visibility.absent: 0>, <Visibility.hidden: 1>, <Visibility.hidden: 1>, <Visibility.hidden: 1>, <Visibility.hidden: 1>, <Visibility.hidden: 1>, <Visibility.hidden: 1>, <Visibility.hidden: 1>, <Visibility.hidden: 1>, <Visibility.hidden: 1>]), Bbox(id=0, attributes={}, group=1, points=[615.0, 218.65, 903.4, 505.6], label=0, z_order=0)], attributes={}, hash_key=[])\n",
      "DatasetItem(id='000000002', subset='default', media=<datumaro.components.media.Image object at 0x7f9165242090>, annotations=[Points(id=0, attributes={'scale': 3.7, 'center': [624.0, 287.0]}, group=1, points=[650.0, 424.0, 646.0, 309.0, 603.0, 215.0, 677.0, 218.0, 691.0, 251.0, 686.0, 261.0, 640.0, 217.0, 677.0, 216.0, 667.02, 219.82, 725.98, 138.18, 636.0, 247.0, 583.0, 191.0, 631.0, 197.0, 722.0, 215.0, 723.0, 270.0, 718.0, 343.0], label=0, z_order=0, visibility=[<Visibility.hidden: 1>, <Visibility.hidden: 1>, <Visibility.hidden: 1>, <Visibility.hidden: 1>, <Visibility.absent: 0>, <Visibility.hidden: 1>, <Visibility.absent: 0>, <Visibility.hidden: 1>, <Visibility.hidden: 1>, <Visibility.hidden: 1>, <Visibility.hidden: 1>, <Visibility.hidden: 1>, <Visibility.hidden: 1>, <Visibility.hidden: 1>, <Visibility.hidden: 1>, <Visibility.hidden: 1>]), Bbox(id=0, attributes={}, group=1, points=[101.1, 33.3, 215.0, 114.7], label=0, z_order=0)], attributes={}, hash_key=[])\n",
      "DatasetItem(id='000000003', subset='default', media=<datumaro.components.media.Image object at 0x7f9165242050>, annotations=[Points(id=0, attributes={'scale': 3.2, 'center': [564.0, 227.0]}, group=1, points=[590.0, 364.0, 586.0, 239.0, 533.0, 155.0, 617.0, 158.0, 631.0, 191.0, 626.0, 201.0, 580.0, 157.0, 617.0, 146.0, 607.02, 159.82, 645.98, 68.18, 576.0, 187.0, 532.0, 131.0, 571.0, 137.0, 662.0, 155.0, 663.0, 210.0, 658.0, 283.0], label=0, z_order=0, visibility=[<Visibility.hidden: 1>, <Visibility.hidden: 1>, <Visibility.hidden: 1>, <Visibility.hidden: 1>, <Visibility.hidden: 1>, <Visibility.hidden: 1>, <Visibility.hidden: 1>, <Visibility.hidden: 1>, <Visibility.hidden: 1>, <Visibility.hidden: 1>, <Visibility.hidden: 1>, <Visibility.hidden: 1>, <Visibility.hidden: 1>, <Visibility.absent: 0>, <Visibility.hidden: 1>, <Visibility.hidden: 1>]), Bbox(id=0, attributes={}, group=1, points=[313.3, 512.43, 534.0, 634.0], label=0, z_order=0), Points(id=0, attributes={'scale': 2.65, 'center': [464.0, 127.0]}, group=2, points=[490.0, 264.0, 486.0, 139.0, 433.0, 55.0, 517.0, 58.0, 531.0, 91.0, 526.0, 101.0, 480.0, 57.0, 517.0, 46.0, 507.02, 59.82, 545.98, 8.18, 476.0, 87.0, 432.0, 31.0, 471.0, 37.0, 562.0, 55.0, 563.0, 110.0, 558.0, 183.0], label=0, z_order=0, visibility=[<Visibility.hidden: 1>, <Visibility.hidden: 1>, <Visibility.hidden: 1>, <Visibility.hidden: 1>, <Visibility.hidden: 1>, <Visibility.hidden: 1>, <Visibility.hidden: 1>, <Visibility.absent: 0>, <Visibility.hidden: 1>, <Visibility.hidden: 1>, <Visibility.hidden: 1>, <Visibility.hidden: 1>, <Visibility.hidden: 1>, <Visibility.hidden: 1>, <Visibility.hidden: 1>, <Visibility.hidden: 1>]), Bbox(id=0, attributes={}, group=2, points=[213.3, 412.43, 334.0, 434.0], label=0, z_order=0)], attributes={}, hash_key=[])\n"
     ]
    }
   ],
   "source": [
    "start_time = time.time()\n",
    "dataset = dm.Dataset.import_from('./tests/assets/mpii_dataset', 'mpii')\n",
    "print(f'setting dataset time for {len(dataset)} items: ', time.time()-start_time)\n",
    "dataset\n",
    "for i, item in enumerate(dataset):\n",
    "    print(item)"
   ]
  },
  {
   "cell_type": "markdown",
   "id": "dbc9f6d4",
   "metadata": {},
   "source": [
    "### 89. cluttered_mnist"
   ]
  },
  {
   "cell_type": "markdown",
   "id": "9db86fd2",
   "metadata": {},
   "source": [
    "### 90. antispoofing"
   ]
  },
  {
   "cell_type": "markdown",
   "id": "8add3648",
   "metadata": {},
   "source": [
    "### 91. sound_classification"
   ]
  },
  {
   "cell_type": "markdown",
   "id": "e26d3165",
   "metadata": {},
   "source": [
    "### 92. ade20k_image_translation"
   ]
  },
  {
   "cell_type": "code",
   "execution_count": 57,
   "id": "466c3db6",
   "metadata": {},
   "outputs": [
    {
     "name": "stdout",
     "output_type": "stream",
     "text": [
      "setting dataset time for 2 items:  0.003863096237182617\n",
      "DatasetItem(id='street/1', subset='training', media=<datumaro.components.media.Image object at 0x7f9165242710>, annotations=[Mask(id=1, attributes={}, group=1, _image=functools.partial(<bound method CompiledMask.extract of <datumaro.components.annotation.CompiledMask object at 0x7f9165242890>>, 1), label=0, z_order=0), Mask(id=2, attributes={'walkin': True}, group=2, _image=functools.partial(<bound method CompiledMask.extract of <datumaro.components.annotation.CompiledMask object at 0x7f9165242890>>, 2), label=1, z_order=0), Mask(id=1, attributes={}, group=1, _image=functools.partial(<bound method CompiledMask.extract of <datumaro.components.annotation.CompiledMask object at 0x7f9165242b50>>, 1), label=2, z_order=1)], attributes={}, hash_key=[])\n",
      "DatasetItem(id='2', subset='validation', media=<datumaro.components.media.Image object at 0x7f9165242950>, annotations=[Mask(id=1, attributes={}, group=1, _image=functools.partial(<bound method CompiledMask.extract of <datumaro.components.annotation.CompiledMask object at 0x7f91652421d0>>, 1), label=0, z_order=0), Mask(id=2, attributes={}, group=2, _image=functools.partial(<bound method CompiledMask.extract of <datumaro.components.annotation.CompiledMask object at 0x7f91652421d0>>, 2), label=1, z_order=0), Mask(id=1, attributes={}, group=1, _image=functools.partial(<bound method CompiledMask.extract of <datumaro.components.annotation.CompiledMask object at 0x7f9165242850>>, 1), label=2, z_order=1), Mask(id=1, attributes={}, group=1, _image=functools.partial(<bound method CompiledMask.extract of <datumaro.components.annotation.CompiledMask object at 0x7f9165242250>>, 1), label=3, z_order=2)], attributes={}, hash_key=[])\n"
     ]
    }
   ],
   "source": [
    "start_time = time.time()\n",
    "dataset = dm.Dataset.import_from('./tests/assets/ade20k2017_dataset/dataset', 'ade20k2017')\n",
    "print(f'setting dataset time for {len(dataset)} items: ', time.time()-start_time)\n",
    "dataset\n",
    "for i, item in enumerate(dataset):\n",
    "    print(item)"
   ]
  },
  {
   "cell_type": "markdown",
   "id": "1f18c03a",
   "metadata": {},
   "source": [
    "### 93. salient_object_detection"
   ]
  },
  {
   "cell_type": "markdown",
   "id": "f3294703",
   "metadata": {},
   "source": [
    "### 94. wflw"
   ]
  },
  {
   "cell_type": "code",
   "execution_count": 59,
   "id": "874d0445",
   "metadata": {},
   "outputs": [
    {
     "name": "stderr",
     "output_type": "stream",
     "text": [
      "6551it [00:00, 50335.21it/s]"
     ]
    },
    {
     "name": "stdout",
     "output_type": "stream",
     "text": [
      "setting dataset time for 6551 items:  0.145460844039917\n"
     ]
    },
    {
     "name": "stderr",
     "output_type": "stream",
     "text": [
      "\n"
     ]
    },
    {
     "data": {
      "text/plain": [
       "Dataset\n",
       "\tsize=6551\n",
       "\tsource_path=/media/hdd2/datumaro/wflw/WFLW_images\n",
       "\tmedia_type=<class 'datumaro.components.media.Image'>\n",
       "\tannotated_items_count=6551\n",
       "\tannotations_count=6551\n",
       "subsets\n",
       "\tdefault: # of items=6551, # of annotated items=6551, # of annotations=6551, annotation types=['label']\n",
       "infos\n",
       "\tcategories\n",
       "\tlabel: ['0--Parade', '1--Handshaking', '10--People_Marching', '11--Meeting', '12--Group', '13--Interview', '14--Traffic', '15--Stock_Market', '16--Award_Ceremony', '17--Ceremony', '18--Concerts', '19--Couple', '2--Demonstration', '20--Family_Group', '21--Festival', '22--Picnic', '23--Shoppers', '24--Soldier_Firing', '25--Soldier_Patrol', '26--Soldier_Drilling', '27--Spa', '28--Sports_Fan', '29--Students_Schoolkids', '3--Riot', '30--Surgeons', '31--Waiter_Waitress', '32--Worker_Laborer', '33--Running', '34--Baseball', '35--Basketball', '36--Football', '37--Soccer', '38--Tennis', '39--Ice_Skating', '4--Dancing', '40--Gymnastics', '41--Swimming', '42--Car_Racing', '43--Row_Boat', '44--Aerobics', '45--Balloonist', '46--Jockey', '47--Matador_Bullfighter', '48--Parachutist_Paratrooper', '49--Greeting', '5--Car_Accident', '50--Celebration_Or_Party', '51--Dresses', '52--Photographers', '53--Raid', '54--Rescue', '55--Sports_Coach_Trainer', '56--Voter', '57--Angler', '58--Hockey', '59--people--driving--car', '61--Street_Battle', '7--Cheering', '8--Election_Campain', '9--Press_Conference']"
      ]
     },
     "execution_count": 59,
     "metadata": {},
     "output_type": "execute_result"
    }
   ],
   "source": [
    "start_time = time.time()\n",
    "dataset = dm.Dataset.import_from(\"/media/hdd2/datumaro/wflw/WFLW_images\", \"imagenet\")\n",
    "print(f'setting dataset time for {len(dataset)} items: ', time.time()-start_time)\n",
    "dataset"
   ]
  },
  {
   "cell_type": "markdown",
   "id": "4706f757",
   "metadata": {},
   "source": [
    "### 95. common_object_detection"
   ]
  },
  {
   "cell_type": "markdown",
   "id": "d2a8753c",
   "metadata": {},
   "source": [
    "### 96. see_in_the_dark"
   ]
  },
  {
   "cell_type": "markdown",
   "id": "7f1ab9c5",
   "metadata": {},
   "source": [
    "### 97. conll_ner"
   ]
  },
  {
   "cell_type": "markdown",
   "id": "8b2b8f12",
   "metadata": {},
   "source": [
    "### 98. tacotron2_data_converter"
   ]
  },
  {
   "cell_type": "markdown",
   "id": "82495c5c",
   "metadata": {},
   "source": [
    "### 99. noise_suppression_data"
   ]
  },
  {
   "cell_type": "markdown",
   "id": "af48fd43",
   "metadata": {},
   "source": [
    "### 100. vimeo90k"
   ]
  },
  {
   "cell_type": "markdown",
   "id": "6895828a",
   "metadata": {},
   "source": [
    "### 101. kaldi_asr_data"
   ]
  },
  {
   "cell_type": "markdown",
   "id": "b0e3d489",
   "metadata": {},
   "source": [
    "### 102. kaldi_feat_regression"
   ]
  },
  {
   "cell_type": "markdown",
   "id": "ef6b76e3",
   "metadata": {},
   "source": [
    "### 103. electricity"
   ]
  },
  {
   "cell_type": "markdown",
   "id": "40e894fc",
   "metadata": {},
   "source": [
    "### 104. yolo_labeling"
   ]
  },
  {
   "cell_type": "code",
   "execution_count": 62,
   "id": "bd35f9f4",
   "metadata": {},
   "outputs": [
    {
     "name": "stdout",
     "output_type": "stream",
     "text": [
      "setting dataset time for 1 items:  0.0028939247131347656\n",
      "DatasetItem(id='1', subset='train', media=<datumaro.components.media.Image object at 0x7f9164819450>, annotations=[Bbox(id=0, attributes={}, group=0, points=[-0.0, 2.0, 4.0, 4.0], label=2, z_order=0), Bbox(id=0, attributes={}, group=0, points=[3.0, 3.0, 5.0, 6.0], label=4, z_order=0)], attributes={}, hash_key=[])\n"
     ]
    }
   ],
   "source": [
    "start_time = time.time()\n",
    "dataset = dm.Dataset.import_from('./tests/assets/yolo_dataset', 'yolo')\n",
    "print(f'setting dataset time for {len(dataset)} items: ', time.time()-start_time)\n",
    "dataset\n",
    "for i, item in enumerate(dataset):\n",
    "    print(item)"
   ]
  },
  {
   "cell_type": "markdown",
   "id": "3f576a38",
   "metadata": {},
   "source": [
    "### 105. label_me_detection\n",
    "### 106. label_me_segmentation"
   ]
  },
  {
   "cell_type": "code",
   "execution_count": 60,
   "id": "74997be9",
   "metadata": {},
   "outputs": [
    {
     "name": "stdout",
     "output_type": "stream",
     "text": [
      "setting dataset time for 1 items:  0.009167671203613281\n",
      "DatasetItem(id='example_folder/img1', subset='default', media=<datumaro.components.media.Image object at 0x7f916481f550>, annotations=[Polygon(id=0, attributes={'occluded': False, 'username': 'admin'}, group=0, points=[43.0, 34.0, 45.0, 34.0, 45.0, 37.0, 43.0, 37.0], label=0, z_order=0), Mask(id=1, attributes={'occluded': False, 'username': 'brussell'}, group=0, _image=array([[False, False, False, ..., False, False, False],\n",
      "       [False, False, False, ..., False, False, False],\n",
      "       [False, False, False, ..., False, False, False],\n",
      "       ...,\n",
      "       [False, False, False, ..., False, False, False],\n",
      "       [False, False, False, ..., False, False, False],\n",
      "       [False, False, False, ..., False, False, False]]), label=1, z_order=0), Polygon(id=2, attributes={'a1': True, 'occluded': True, 'username': 'anonymous'}, group=2, points=[30.0, 12.0, 42.0, 21.0, 24.0, 26.0, 15.0, 22.0, 18.0, 14.0, 22.0, 12.0, 27.0, 12.0], label=2, z_order=0), Polygon(id=3, attributes={'kj': True, 'occluded': False, 'username': 'anonymous'}, group=2, points=[35.0, 21.0, 43.0, 22.0, 40.0, 28.0, 28.0, 31.0, 31.0, 22.0, 32.0, 25.0], label=3, z_order=0), Bbox(id=4, attributes={'hg': True, 'occluded': True, 'username': 'anonymous'}, group=2, points=[13.0, 19.0, 23.0, 30.0], label=4, z_order=0), Mask(id=5, attributes={'d': True, 'occluded': False, 'username': 'anonymous'}, group=1, _image=array([[False, False, False, ..., False, False, False],\n",
      "       [False, False, False, ..., False, False, False],\n",
      "       [False, False, False, ..., False, False, False],\n",
      "       ...,\n",
      "       [False, False, False, ..., False, False, False],\n",
      "       [False, False, False, ..., False, False, False],\n",
      "       [False, False, False, ..., False, False, False]]), label=5, z_order=0), Polygon(id=6, attributes={'gfd lkj lkj hi': True, 'occluded': False, 'username': 'anonymous'}, group=1, points=[64.0, 21.0, 74.0, 24.0, 72.0, 32.0, 62.0, 34.0, 60.0, 27.0, 62.0, 22.0], label=6, z_order=0)], attributes={}, hash_key=[])\n"
     ]
    }
   ],
   "source": [
    "start_time = time.time()\n",
    "dataset = dm.Dataset.import_from('./tests/assets/labelme_dataset')\n",
    "print(f'setting dataset time for {len(dataset)} items: ', time.time()-start_time)\n",
    "dataset\n",
    "for i, item in enumerate(dataset):\n",
    "    print(item)"
   ]
  },
  {
   "cell_type": "markdown",
   "id": "df8dd9e3",
   "metadata": {},
   "source": [
    "### 107. cls_dataset_folder"
   ]
  },
  {
   "cell_type": "markdown",
   "id": "34d031d8",
   "metadata": {},
   "source": [
    "### 108. rctw_preprocessed"
   ]
  },
  {
   "cell_type": "markdown",
   "id": "7ba4d9a5",
   "metadata": {},
   "source": [
    "### 109. open_images_detection"
   ]
  },
  {
   "cell_type": "code",
   "execution_count": 67,
   "id": "5920f166",
   "metadata": {},
   "outputs": [
    {
     "name": "stdout",
     "output_type": "stream",
     "text": [
      "setting dataset time for 2 items:  0.002898693084716797\n",
      "Dataset\n",
      "\tsize=2\n",
      "\tsource_path=./tests/assets/open_images_dataset/v5\n",
      "\tmedia_type=<class 'datumaro.components.media.Image'>\n",
      "\tannotated_items_count=0\n",
      "\tannotations_count=0\n",
      "subsets\n",
      "\ttest: # of items=1, # of annotated items=0, # of annotations=0, annotation types=[]\n",
      "\ttrain: # of items=1, # of annotated items=0, # of annotations=0, annotation types=[]\n",
      "infos\n",
      "\tcategories\n",
      "\tlabel: ['/m/0', '/m/1']\n",
      "\n",
      "DatasetItem(id='cc', subset='test', media=<datumaro.components.media.Image object at 0x7f91647bd4d0>, annotations=[], attributes={}, hash_key=[])\n",
      "DatasetItem(id='aa', subset='train', media=<datumaro.components.media.Image object at 0x7f91647bd310>, annotations=[], attributes={}, hash_key=[])\n"
     ]
    }
   ],
   "source": [
    "start_time = time.time()\n",
    "dataset = dm.Dataset.import_from('./tests/assets/open_images_dataset/v5', 'open_images')\n",
    "print(f'setting dataset time for {len(dataset)} items: ', time.time()-start_time)\n",
    "print(dataset)\n",
    "for i, item in enumerate(dataset):\n",
    "    print(item)"
   ]
  },
  {
   "cell_type": "code",
   "execution_count": 68,
   "id": "ca28f500",
   "metadata": {},
   "outputs": [
    {
     "name": "stdout",
     "output_type": "stream",
     "text": [
      "setting dataset time for 4 items:  0.003506183624267578\n",
      "Dataset\n",
      "\tsize=4\n",
      "\tsource_path=./tests/assets/open_images_dataset/v6\n",
      "\tmedia_type=<class 'datumaro.components.media.Image'>\n",
      "\tannotated_items_count=3\n",
      "\tannotations_count=7\n",
      "subsets\n",
      "\ttest: # of items=1, # of annotated items=1, # of annotations=3, annotation types=['label', 'bbox']\n",
      "\ttrain: # of items=2, # of annotated items=2, # of annotations=4, annotation types=['mask', 'label', 'bbox']\n",
      "\tvalidation: # of items=1, # of annotated items=0, # of annotations=0, annotation types=[]\n",
      "infos\n",
      "\tcategories\n",
      "\tlabel: ['/m/0', '/m/1', '/m/2', '/m/3']\n",
      "\n",
      "DatasetItem(id='a', subset='train', media=<datumaro.components.media.Image object at 0x7f91647bdb50>, annotations=[Label(id=0, attributes={'score': 1.0}, group=0, label=0)], attributes={}, hash_key=[])\n",
      "DatasetItem(id='b', subset='train', media=<datumaro.components.media.Image object at 0x7f91647bd610>, annotations=[Label(id=0, attributes={'score': 0.0}, group=0, label=0), Bbox(id=0, attributes={'score': 1.0}, group=1, points=[1.6, 0.6, 8.0, 1.0], label=0, z_order=0), Mask(id=0, attributes={'box_id': '01234567', 'predicted_iou': 0.5}, group=1, _image=<datumaro.util.image.lazy_image object at 0x7f91647bded0>, label=0, z_order=0)], attributes={}, hash_key=[])\n",
      "DatasetItem(id='c', subset='test', media=<datumaro.components.media.Image object at 0x7f91647bd990>, annotations=[Label(id=0, attributes={'score': 1.0}, group=0, label=1), Label(id=0, attributes={'score': 1.0}, group=0, label=3), Bbox(id=0, attributes={'score': 0.7, 'occluded': True, 'truncated': False, 'is_group_of': True, 'is_depiction': False, 'is_inside': False}, group=1, points=[3.5, 0.0, 4.0, 5.0], label=3, z_order=0)], attributes={}, hash_key=[])\n",
      "DatasetItem(id='d', subset='validation', media=<datumaro.components.media.Image object at 0x7f91647bdcd0>, annotations=[], attributes={}, hash_key=[])\n"
     ]
    }
   ],
   "source": [
    "start_time = time.time()\n",
    "dataset = dm.Dataset.import_from('./tests/assets/open_images_dataset/v6', 'open_images')\n",
    "print(f'setting dataset time for {len(dataset)} items: ', time.time()-start_time)\n",
    "print(dataset)\n",
    "for i, item in enumerate(dataset):\n",
    "    print(item)"
   ]
  },
  {
   "cell_type": "markdown",
   "id": "a9af96f3",
   "metadata": {},
   "source": [
    "### 110. amazon_product_data"
   ]
  },
  {
   "cell_type": "markdown",
   "id": "63bdc717",
   "metadata": {},
   "source": [
    "### 111. wgs_tf_records\n",
    "### 112. wgs_pickle_records"
   ]
  },
  {
   "cell_type": "markdown",
   "id": "e4f6ba32",
   "metadata": {},
   "source": [
    "### 113. wgs_pickle_records"
   ]
  },
  {
   "cell_type": "markdown",
   "id": "7fd86799",
   "metadata": {},
   "source": [
    "### 114. speaker_reidentification"
   ]
  },
  {
   "cell_type": "markdown",
   "id": "51b737d5",
   "metadata": {},
   "source": [
    "### 115. mvtec"
   ]
  },
  {
   "cell_type": "code",
   "execution_count": 7,
   "id": "2f1bd755",
   "metadata": {},
   "outputs": [
    {
     "name": "stdout",
     "output_type": "stream",
     "text": [
      "setting dataset time for 6612 items:  0.15627765655517578\n"
     ]
    },
    {
     "data": {
      "text/plain": [
       "Dataset\n",
       "\tsize=6612\n",
       "\tsource_path=/media/hdd2/datumaro/mvtec\n",
       "\tmedia_type=<class 'datumaro.components.media.Image'>\n",
       "\tannotated_items_count=0\n",
       "\tannotations_count=0\n",
       "subsets\n",
       "\tdefault: # of items=6612, # of annotated items=0, # of annotations=0, annotation types=[]\n",
       "infos\n",
       "\tcategories\n",
       "\t"
      ]
     },
     "execution_count": 7,
     "metadata": {},
     "output_type": "execute_result"
    }
   ],
   "source": [
    "start_time = time.time()\n",
    "dataset = dm.Dataset.import_from(\"/media/hdd2/datumaro/mvtec\", \"image_dir\")\n",
    "print(f'setting dataset time for {len(dataset)} items: ', time.time()-start_time)\n",
    "dataset"
   ]
  },
  {
   "cell_type": "markdown",
   "id": "952f7333",
   "metadata": {},
   "source": [
    "### 116. kitti_2d_detection"
   ]
  },
  {
   "cell_type": "code",
   "execution_count": 69,
   "id": "33924d80",
   "metadata": {},
   "outputs": [
    {
     "name": "stdout",
     "output_type": "stream",
     "text": [
      "setting dataset time for 2 items:  0.011323213577270508\n",
      "Dataset\n",
      "\tsize=2\n",
      "\tsource_path=./tests/assets/kitti_dataset/kitti_detection\n",
      "\tmedia_type=<class 'datumaro.components.media.Image'>\n",
      "\tannotated_items_count=2\n",
      "\tannotations_count=5\n",
      "subsets\n",
      "\ttraining: # of items=2, # of annotated items=2, # of annotations=5, annotation types=['bbox']\n",
      "infos\n",
      "\tcategories\n",
      "\tlabel: ['Truck', 'Van']\n",
      "\n",
      "DatasetItem(id='000030_10', subset='training', media=<datumaro.components.media.Image object at 0x7f91648f0d50>, annotations=[Bbox(id=0, attributes={'truncated': True, 'occluded': False}, group=0, points=[0.0, 1.0, 2.0, 3.0], label=0, z_order=0), Bbox(id=1, attributes={'truncated': False, 'occluded': False}, group=0, points=[0.0, 5.0, 1.0, 8.0], label=1, z_order=0)], attributes={}, hash_key=[])\n",
      "DatasetItem(id='000030_11', subset='training', media=<datumaro.components.media.Image object at 0x7f91648f0a10>, annotations=[Bbox(id=0, attributes={'truncated': True, 'occluded': True}, group=0, points=[0.0, 0.0, 2.0, 2.0], label=1, z_order=0), Bbox(id=1, attributes={'truncated': False, 'occluded': False}, group=0, points=[4.0, 4.0, 6.0, 6.0], label=1, z_order=0), Bbox(id=2, attributes={'truncated': False, 'occluded': True}, group=0, points=[6.0, 6.0, 7.0, 9.0], label=1, z_order=0)], attributes={}, hash_key=[])\n"
     ]
    }
   ],
   "source": [
    "start_time = time.time()\n",
    "dataset = dm.Dataset.import_from('./tests/assets/kitti_dataset/kitti_detection', 'kitti')\n",
    "print(f'setting dataset time for {len(dataset)} items: ', time.time()-start_time)\n",
    "print(dataset)\n",
    "for i, item in enumerate(dataset):\n",
    "    print(item)"
   ]
  },
  {
   "cell_type": "markdown",
   "id": "ac5fd1ed",
   "metadata": {},
   "source": [
    "### 117. malware_classification_converter"
   ]
  },
  {
   "cell_type": "markdown",
   "id": "21771018",
   "metadata": {},
   "source": [
    "### 118. cvat_palm_detection"
   ]
  },
  {
   "cell_type": "markdown",
   "id": "b0cbbfc8",
   "metadata": {},
   "source": [
    "### 119. cvat_hand_landmarks"
   ]
  },
  {
   "cell_type": "markdown",
   "id": "fa04b8ec",
   "metadata": {},
   "source": []
  }
 ],
 "metadata": {
  "kernelspec": {
   "display_name": "jupyter datumaro",
   "language": "python",
   "name": "datumaro"
  },
  "language_info": {
   "codemirror_mode": {
    "name": "ipython",
    "version": 3
   },
   "file_extension": ".py",
   "mimetype": "text/x-python",
   "name": "python",
   "nbconvert_exporter": "python",
   "pygments_lexer": "ipython3",
   "version": "3.7.13"
  }
 },
 "nbformat": 4,
 "nbformat_minor": 5
}
