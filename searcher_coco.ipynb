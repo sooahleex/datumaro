{
 "cells": [
  {
   "cell_type": "code",
   "execution_count": 1,
   "id": "5cb1125e",
   "metadata": {},
   "outputs": [
    {
     "name": "stdout",
     "output_type": "stream",
     "text": [
      "#### device:  cuda\n"
     ]
    }
   ],
   "source": [
    "# Copyright (C) 2022 Intel Corporationworkbench.action.openLargeOutput\n",
    "#\n",
    "# SPDX-License-Identifier: MIT\n",
    "\n",
    "import os\n",
    "import datumaro as dm\n",
    "import time\n",
    "\n",
    "from datumaro.components.searcher import Searcher\n",
    "from datumaro.components.visualizer import Visualizer"
   ]
  },
  {
   "cell_type": "markdown",
   "id": "dfe17727",
   "metadata": {},
   "source": [
    "### NUSWIDE"
   ]
  },
  {
   "cell_type": "code",
   "execution_count": null,
   "id": "aa1ece09",
   "metadata": {},
   "outputs": [
    {
     "name": "stderr",
     "output_type": "stream",
     "text": [
      "136482it [3:06:03, 81.89it/s]"
     ]
    }
   ],
   "source": [
    "start_time = time.time()\n",
    "nuswide_dataset = dm.Dataset.import_from(\"/media/hdd2/datumaro/NUSWIDE/image\", format='imagenet', save_hash=True)\n",
    "print(f'setting dataset time for {len(nuswide_dataset)} items: ', time.time()-start_time)"
   ]
  },
  {
   "cell_type": "code",
   "execution_count": null,
   "id": "4e35e61b",
   "metadata": {},
   "outputs": [],
   "source": [
    "print(\"Subset candidates: \", nuswide_dataset.subsets().keys())\n",
    "subset = list(nuswide_dataset.subsets().keys())\n",
    "print(\"Subset: \", subset)"
   ]
  },
  {
   "cell_type": "markdown",
   "id": "56409e28",
   "metadata": {},
   "source": [
    "### Searcher result for `image` query"
   ]
  },
  {
   "cell_type": "code",
   "execution_count": null,
   "id": "1671561f",
   "metadata": {},
   "outputs": [],
   "source": [
    "for i, item in enumerate(nuswide_dataset):\n",
    "    if i==50:\n",
    "        query = item"
   ]
  },
  {
   "cell_type": "code",
   "execution_count": null,
   "id": "e270ca03",
   "metadata": {},
   "outputs": [],
   "source": [
    "visualizer = Visualizer(nuswide_dataset, figsize=(12, 12), alpha=0)\n",
    "fig = visualizer.vis_one_sample(query.id, \"default\")\n",
    "fig.show()"
   ]
  },
  {
   "cell_type": "code",
   "execution_count": null,
   "id": "73bbbd3f",
   "metadata": {},
   "outputs": [],
   "source": [
    "searcher = Searcher(nuswide_dataset)\n",
    "topk_list = searcher.search_topk(query, topk=15)\n",
    "results = [query] + topk_list[1:]\n",
    "subset_list = []\n",
    "id_list =[]\n",
    "for result in results:\n",
    "    subset_list.append(result.subset)\n",
    "    id_list.append(result.id)"
   ]
  },
  {
   "cell_type": "code",
   "execution_count": null,
   "id": "c5ec3293",
   "metadata": {},
   "outputs": [],
   "source": [
    "fig = visualizer.vis_gallery(id_list[:12], subset_list[:12], (None, None))\n",
    "fig.show()"
   ]
  },
  {
   "cell_type": "markdown",
   "id": "eff80687",
   "metadata": {},
   "source": [
    "### Searcher result for `text` query"
   ]
  },
  {
   "cell_type": "code",
   "execution_count": null,
   "id": "acd12a01",
   "metadata": {},
   "outputs": [],
   "source": [
    "topk_list = searcher.search_topk(\"power_plant\", topk=15)\n",
    "subset_list = []\n",
    "id_list =[]\n",
    "for result in topk_list:\n",
    "    subset_list.append(result.subset)\n",
    "    id_list.append(result.id)\n",
    "fig = visualizer.vis_gallery(id_list[:12], subset_list[:12], (None, None))\n",
    "fig.show()"
   ]
  },
  {
   "cell_type": "markdown",
   "id": "8610d1b8",
   "metadata": {},
   "source": [
    "### COCO"
   ]
  },
  {
   "cell_type": "code",
   "execution_count": null,
   "id": "e10dc1a4",
   "metadata": {
    "scrolled": true
   },
   "outputs": [],
   "source": [
    "start_time = time.time()\n",
    "# dataset = dm.Dataset.import_from('./tests/assets/coco_dataset/coco', save_hash=True)\n",
    "dataset = dm.Dataset.import_from(\"coco_dataset\", format='coco_instances', save_hash=True)\n",
    "# dataset = dm.Dataset.import_from(\"/media/hdd1/Datasets/imagenet/val\", format='imagenet', save_hash=True)\n",
    "print(f'setting dataset time for {len(dataset)} items: ', time.time()-start_time)"
   ]
  },
  {
   "cell_type": "code",
   "execution_count": null,
   "id": "16d219b9",
   "metadata": {},
   "outputs": [],
   "source": [
    "print(\"Subset candidates: \", dataset.subsets().keys())\n",
    "subset = list(dataset.subsets().keys())\n",
    "print(\"Subset: \", subset)"
   ]
  },
  {
   "cell_type": "markdown",
   "id": "21b51e64",
   "metadata": {},
   "source": [
    "### Searcher result for `image` query"
   ]
  },
  {
   "cell_type": "code",
   "execution_count": null,
   "id": "cb1cd520",
   "metadata": {},
   "outputs": [],
   "source": [
    "for i, item in enumerate(dataset):\n",
    "    if i==50:\n",
    "        query = item"
   ]
  },
  {
   "cell_type": "code",
   "execution_count": null,
   "id": "c5a6dbaf",
   "metadata": {},
   "outputs": [],
   "source": [
    "visualizer = Visualizer(dataset, figsize=(12, 12), alpha=0)\n",
    "fig = visualizer.vis_one_sample(query.id, \"val2017\")\n",
    "fig.show()"
   ]
  },
  {
   "cell_type": "code",
   "execution_count": null,
   "id": "47f9884f",
   "metadata": {},
   "outputs": [],
   "source": [
    "searcher = Searcher(dataset)"
   ]
  },
  {
   "cell_type": "code",
   "execution_count": null,
   "id": "9a09e65f",
   "metadata": {},
   "outputs": [],
   "source": [
    "topk_list = searcher.search_topk(query, topk=15)"
   ]
  },
  {
   "cell_type": "code",
   "execution_count": null,
   "id": "09d8154b",
   "metadata": {},
   "outputs": [],
   "source": [
    "results = [query] + topk_list[1:]"
   ]
  },
  {
   "cell_type": "code",
   "execution_count": null,
   "id": "387ea1f7",
   "metadata": {},
   "outputs": [],
   "source": [
    "subset_list = []\n",
    "id_list =[]\n",
    "for result in results:\n",
    "    subset_list.append(result.subset)\n",
    "    id_list.append(result.id)"
   ]
  },
  {
   "cell_type": "code",
   "execution_count": null,
   "id": "f14f0aea",
   "metadata": {
    "scrolled": true
   },
   "outputs": [],
   "source": [
    "fig = visualizer.vis_gallery(id_list[:12], subset_list[:12], (None, None))\n",
    "fig.show()"
   ]
  },
  {
   "cell_type": "markdown",
   "id": "95856f2e",
   "metadata": {},
   "source": [
    "### Searcher result for `text` query"
   ]
  },
  {
   "cell_type": "code",
   "execution_count": null,
   "id": "d22c7c69",
   "metadata": {},
   "outputs": [],
   "source": [
    "topk_list = searcher.search_topk('elephant', topk=15)"
   ]
  },
  {
   "cell_type": "code",
   "execution_count": null,
   "id": "5219560f",
   "metadata": {},
   "outputs": [],
   "source": [
    "subset_list = []\n",
    "id_list =[]\n",
    "for result in topk_list:\n",
    "    subset_list.append(result.subset)\n",
    "    id_list.append(result.id)\n",
    "visualizer = Visualizer(dataset, figsize=(12, 12), alpha=0)\n",
    "fig = visualizer.vis_gallery(id_list[:12], subset_list[:12], (None, None))\n",
    "fig.show()"
   ]
  },
  {
   "cell_type": "markdown",
   "id": "86f26df2",
   "metadata": {},
   "source": [
    "### CIFAR"
   ]
  },
  {
   "cell_type": "code",
   "execution_count": null,
   "id": "b1266a43",
   "metadata": {},
   "outputs": [],
   "source": [
    "start_time = time.time()\n",
    "# dataset = dm.Dataset.import_from('./tests/assets/coco_dataset/coco', save_hash=True)\n",
    "cifar_dataset = dm.Dataset.import_from(\"/media/hdd2/cifar10/cifar-10-batches-py\", format=\"cifar\", save_hash=True)\n",
    "# dataset = dm.Dataset.import_from(\"/media/hdd1/Datasets/imagenet/val\", format='imagenet', save_hash=True)\n",
    "print(f'setting dataset time for {len(cifar_dataset)} items: ', time.time()-start_time)"
   ]
  },
  {
   "cell_type": "code",
   "execution_count": null,
   "id": "2ed30770",
   "metadata": {},
   "outputs": [],
   "source": [
    "print(\"Subset candidates: \", cifar_dataset.subsets().keys())\n",
    "cifar_subset = list(cifar_dataset.subsets().keys())\n",
    "print(\"Subset: \", cifar_subset)"
   ]
  },
  {
   "cell_type": "markdown",
   "id": "456fa30c",
   "metadata": {},
   "source": [
    "### Searcher result for `image` query"
   ]
  },
  {
   "cell_type": "code",
   "execution_count": null,
   "id": "209677f9",
   "metadata": {},
   "outputs": [],
   "source": [
    "for i, item in enumerate(cifar_dataset):\n",
    "    if i==1:\n",
    "        query = item\n",
    "# print(query)"
   ]
  },
  {
   "cell_type": "code",
   "execution_count": null,
   "id": "16ca8607",
   "metadata": {},
   "outputs": [],
   "source": [
    "visualizer = Visualizer(cifar_dataset, figsize=(12, 12), alpha=0)\n",
    "fig = visualizer.vis_one_sample(query.id, \"data_batch_2\")\n",
    "fig.show()"
   ]
  },
  {
   "cell_type": "code",
   "execution_count": null,
   "id": "44a1bc35",
   "metadata": {},
   "outputs": [],
   "source": [
    "searcher = Searcher(cifar_dataset)"
   ]
  },
  {
   "cell_type": "code",
   "execution_count": null,
   "id": "c1410fb4",
   "metadata": {},
   "outputs": [],
   "source": [
    "topk_list = searcher.search_topk(query, topk=15)"
   ]
  },
  {
   "cell_type": "code",
   "execution_count": null,
   "id": "f8fd8638",
   "metadata": {},
   "outputs": [],
   "source": [
    "results = [query] + topk_list[1:]"
   ]
  },
  {
   "cell_type": "code",
   "execution_count": null,
   "id": "c1cda125",
   "metadata": {},
   "outputs": [],
   "source": [
    "subset_list = []\n",
    "id_list =[]\n",
    "for result in results:\n",
    "    subset_list.append(result.subset)\n",
    "    id_list.append(result.id)"
   ]
  },
  {
   "cell_type": "code",
   "execution_count": null,
   "id": "891a5370",
   "metadata": {
    "scrolled": true
   },
   "outputs": [],
   "source": [
    "fig = visualizer.vis_gallery(id_list[:12], subset_list[:12])\n",
    "fig.show()"
   ]
  },
  {
   "cell_type": "markdown",
   "id": "632fbc4c",
   "metadata": {},
   "source": [
    "### Searcher result for `text` query"
   ]
  },
  {
   "cell_type": "code",
   "execution_count": null,
   "id": "36b86434",
   "metadata": {},
   "outputs": [],
   "source": [
    "topk_list = cifar_searcher.search_topk('airplane', topk=15)\n",
    "subset_list = []\n",
    "id_list =[]\n",
    "for result in topk_list:\n",
    "    subset_list.append(result.subset)\n",
    "    id_list.append(result.id)\n",
    "cifar_visualizer = Visualizer(cifar_dataset, figsize=(12, 12), alpha=0)\n",
    "fig = cifar_visualizer.vis_gallery(id_list[:12], subset_list[:12], (None, None))\n",
    "fig.show()"
   ]
  },
  {
   "cell_type": "code",
   "execution_count": null,
   "id": "861fe461",
   "metadata": {},
   "outputs": [],
   "source": []
  }
 ],
 "metadata": {
  "kernelspec": {
   "display_name": "jupyter datumaro",
   "language": "python",
   "name": "datumaro"
  },
  "language_info": {
   "codemirror_mode": {
    "name": "ipython",
    "version": 3
   },
   "file_extension": ".py",
   "mimetype": "text/x-python",
   "name": "python",
   "nbconvert_exporter": "python",
   "pygments_lexer": "ipython3",
   "version": "3.7.13"
  }
 },
 "nbformat": 4,
 "nbformat_minor": 5
}
