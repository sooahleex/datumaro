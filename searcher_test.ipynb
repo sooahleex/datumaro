{
 "cells": [
  {
   "cell_type": "code",
   "execution_count": null,
   "metadata": {},
   "outputs": [],
   "source": [
    "# Copyright (C) 2022 Intel Corporationworkbench.action.openLargeOutput\n",
    "#\n",
    "# SPDX-License-Identifier: MIT\n",
    "\n",
    "import os\n",
    "import datumaro as dm\n",
    "import time\n",
    "\n",
    "from datumaro.components.searcher import Searcher\n",
    "from datumaro.components.visualizer import Visualizer"
   ]
  },
  {
   "cell_type": "code",
   "execution_count": null,
   "metadata": {},
   "outputs": [],
   "source": [
    "start_time = time.time()\n",
    "# dataset = dm.Dataset.import_from('./tests/assets/coco_dataset/coco', save_hash=True)\n",
    "dataset = dm.Dataset.import_from(\"coco_dataset\", format='coco_instances', save_hash=True)\n",
    "print(f'setting dataset time for {len(dataset)} items: ', time.time()-start_time)"
   ]
  },
  {
   "cell_type": "code",
   "execution_count": null,
   "metadata": {},
   "outputs": [],
   "source": [
    "print(\"Subset candidates: \", dataset.subsets().keys())\n",
    "subset = list(dataset.subsets().keys())\n",
    "print(\"Subset: \", subset)"
   ]
  },
  {
   "cell_type": "code",
   "execution_count": null,
   "metadata": {},
   "outputs": [],
   "source": [
    "def get_ids(dataset: dm.Dataset):\n",
    "    ids = []\n",
    "    for item in dataset:\n",
    "            ids += [item.id]\n",
    "    return ids"
   ]
  },
  {
   "cell_type": "code",
   "execution_count": null,
   "metadata": {},
   "outputs": [],
   "source": [
    "ids = get_ids(dataset)\n",
    "print(\"DatasetItem ids: \", ids)"
   ]
  },
  {
   "cell_type": "code",
   "execution_count": null,
   "metadata": {},
   "outputs": [],
   "source": [
    "for i, item in enumerate(dataset):\n",
    "    if i==1:\n",
    "        query = item\n",
    "print(query)\n",
    "print(query.id)"
   ]
  },
  {
   "cell_type": "code",
   "execution_count": null,
   "metadata": {},
   "outputs": [],
   "source": [
    "visualizer = Visualizer(dataset, figsize=(12, 12), alpha=0)\n",
    "fig = visualizer.vis_one_sample(query.id, \"val\")\n",
    "fig.show()"
   ]
  },
  {
   "cell_type": "code",
   "execution_count": null,
   "metadata": {},
   "outputs": [],
   "source": [
    "searcher = Searcher(dataset)"
   ]
  },
  {
   "cell_type": "code",
   "execution_count": null,
   "metadata": {},
   "outputs": [],
   "source": [
    "topk_list = searcher.search_topk(query, topk=1)\n",
    "topk_list"
   ]
  },
  {
   "cell_type": "code",
   "execution_count": null,
   "metadata": {},
   "outputs": [],
   "source": [
    "visualizer = Visualizer(dataset, figsize=(12, 12), alpha=0)\n",
    "results = [query.id] + topk_list"
   ]
  },
  {
   "cell_type": "code",
   "execution_count": null,
   "metadata": {},
   "outputs": [],
   "source": [
    "results"
   ]
  },
  {
   "cell_type": "code",
   "execution_count": null,
   "metadata": {},
   "outputs": [],
   "source": [
    "fig = visualizer.vis_gallery(results, \"val\", (None, None))\n",
    "fig.show()"
   ]
  },
  {
   "cell_type": "code",
   "execution_count": null,
   "metadata": {},
   "outputs": [],
   "source": []
  }
 ],
 "metadata": {
  "kernelspec": {
   "display_name": "Python 3.7.13 ('datumaro')",
   "language": "python",
   "name": "python3"
  },
  "language_info": {
   "codemirror_mode": {
    "name": "ipython",
    "version": 3
   },
   "file_extension": ".py",
   "mimetype": "text/x-python",
   "name": "python",
   "nbconvert_exporter": "python",
   "pygments_lexer": "ipython3",
   "version": "3.7.13"
  },
  "orig_nbformat": 4,
  "vscode": {
   "interpreter": {
    "hash": "7efb5ceadcca42ac605c92935f4a2f3414295534cd53c8875f57b6b98755353f"
   }
  }
 },
 "nbformat": 4,
 "nbformat_minor": 2
}
